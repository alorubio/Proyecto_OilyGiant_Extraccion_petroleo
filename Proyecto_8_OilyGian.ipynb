{
 "cells": [
  {
   "cell_type": "markdown",
   "metadata": {},
   "source": [
    "# Descripción del proyecto"
   ]
  },
  {
   "cell_type": "markdown",
   "metadata": {},
   "source": [
    "## Objetivo"
   ]
  },
  {
   "cell_type": "markdown",
   "metadata": {},
   "source": [
    "Trabajas en la compañía de extracción de petróleo OilyGiant. Tu tarea es encontrar los mejores lugares donde abrir 200 pozos nuevos de petróleo.\n",
    "\n",
    "Tienes datos sobre muestras de crudo de tres regiones. Ya se conocen los parámetros de cada pozo petrolero de la región. Crea un modelo que ayude a elegir la región con el mayor margen de beneficio. Analiza los beneficios y riesgos potenciales utilizando la técnica bootstrapping.\n",
    "\n",
    "Condiciones:\n",
    "- Solo se debe usar la regresión lineal para el entrenamiento del modelo.\n",
    "- Al explorar la región, se lleva a cabo un estudio de 500 puntos con la selección de los mejores 200 puntos para el cálculo del beneficio.\n",
    "- El presupuesto para el desarrollo de 200 pozos petroleros es de 100 millones de dólares.\n",
    "- Un barril de materias primas genera 4.5 USD de ingresos. El ingreso de una unidad de producto es de 4500 dólares (el volumen de reservas está expresado en miles de barriles).\n",
    "- Después de la evaluación de riesgo, mantén solo las regiones con riesgo de pérdidas inferior al 2.5%. De las que se ajustan a los criterios, se debe seleccionar la región con el beneficio promedio más alto."
   ]
  },
  {
   "cell_type": "code",
   "execution_count": 2,
   "metadata": {},
   "outputs": [],
   "source": [
    "#Se importan las librerías que se estarán utilizando para el proyecto\n",
    "\n",
    "import pandas as pd\n",
    "import numpy as np\n",
    "from statistics import mean\n",
    "import matplotlib.pyplot as plt\n",
    "from sklearn.linear_model import LinearRegression\n",
    "from sklearn.model_selection import train_test_split\n",
    "from sklearn.metrics import mean_squared_error\n",
    "from sklearn.preprocessing import StandardScaler"
   ]
  },
  {
   "cell_type": "code",
   "execution_count": 2,
   "metadata": {},
   "outputs": [],
   "source": [
    "#Se cargan los datasets que se estarán utilizando para el proyecto\n",
    "\n",
    "gdata_0 = pd.read_csv('/datasets/geo_data_0.csv')\n",
    "gdata_1 = pd.read_csv('/datasets/geo_data_1.csv')\n",
    "gdata_2 = pd.read_csv('/datasets/geo_data_2.csv')\n",
    "\n",
    "pd.options.mode.chained_assignment = None"
   ]
  },
  {
   "cell_type": "markdown",
   "metadata": {},
   "source": [
    "Se examina la información de cada uno de los datasets para conocer al tipo de información que nos presentamos, y posteriormente saber como tratarla, en caso de ser necesario."
   ]
  },
  {
   "cell_type": "code",
   "execution_count": 3,
   "metadata": {},
   "outputs": [
    {
     "name": "stdout",
     "output_type": "stream",
     "text": [
      "<class 'pandas.core.frame.DataFrame'>\n",
      "RangeIndex: 100000 entries, 0 to 99999\n",
      "Data columns (total 5 columns):\n",
      " #   Column   Non-Null Count   Dtype  \n",
      "---  ------   --------------   -----  \n",
      " 0   id       100000 non-null  object \n",
      " 1   f0       100000 non-null  float64\n",
      " 2   f1       100000 non-null  float64\n",
      " 3   f2       100000 non-null  float64\n",
      " 4   product  100000 non-null  float64\n",
      "dtypes: float64(4), object(1)\n",
      "memory usage: 3.8+ MB\n"
     ]
    }
   ],
   "source": [
    "gdata_0.info()"
   ]
  },
  {
   "cell_type": "code",
   "execution_count": 4,
   "metadata": {},
   "outputs": [
    {
     "data": {
      "text/html": [
       "<div>\n",
       "<style scoped>\n",
       "    .dataframe tbody tr th:only-of-type {\n",
       "        vertical-align: middle;\n",
       "    }\n",
       "\n",
       "    .dataframe tbody tr th {\n",
       "        vertical-align: top;\n",
       "    }\n",
       "\n",
       "    .dataframe thead th {\n",
       "        text-align: right;\n",
       "    }\n",
       "</style>\n",
       "<table border=\"1\" class=\"dataframe\">\n",
       "  <thead>\n",
       "    <tr style=\"text-align: right;\">\n",
       "      <th></th>\n",
       "      <th>id</th>\n",
       "      <th>f0</th>\n",
       "      <th>f1</th>\n",
       "      <th>f2</th>\n",
       "      <th>product</th>\n",
       "    </tr>\n",
       "  </thead>\n",
       "  <tbody>\n",
       "    <tr>\n",
       "      <th>0</th>\n",
       "      <td>txEyH</td>\n",
       "      <td>0.705745</td>\n",
       "      <td>-0.497823</td>\n",
       "      <td>1.221170</td>\n",
       "      <td>105.280062</td>\n",
       "    </tr>\n",
       "    <tr>\n",
       "      <th>1</th>\n",
       "      <td>2acmU</td>\n",
       "      <td>1.334711</td>\n",
       "      <td>-0.340164</td>\n",
       "      <td>4.365080</td>\n",
       "      <td>73.037750</td>\n",
       "    </tr>\n",
       "    <tr>\n",
       "      <th>2</th>\n",
       "      <td>409Wp</td>\n",
       "      <td>1.022732</td>\n",
       "      <td>0.151990</td>\n",
       "      <td>1.419926</td>\n",
       "      <td>85.265647</td>\n",
       "    </tr>\n",
       "    <tr>\n",
       "      <th>3</th>\n",
       "      <td>iJLyR</td>\n",
       "      <td>-0.032172</td>\n",
       "      <td>0.139033</td>\n",
       "      <td>2.978566</td>\n",
       "      <td>168.620776</td>\n",
       "    </tr>\n",
       "    <tr>\n",
       "      <th>4</th>\n",
       "      <td>Xdl7t</td>\n",
       "      <td>1.988431</td>\n",
       "      <td>0.155413</td>\n",
       "      <td>4.751769</td>\n",
       "      <td>154.036647</td>\n",
       "    </tr>\n",
       "  </tbody>\n",
       "</table>\n",
       "</div>"
      ],
      "text/plain": [
       "      id        f0        f1        f2     product\n",
       "0  txEyH  0.705745 -0.497823  1.221170  105.280062\n",
       "1  2acmU  1.334711 -0.340164  4.365080   73.037750\n",
       "2  409Wp  1.022732  0.151990  1.419926   85.265647\n",
       "3  iJLyR -0.032172  0.139033  2.978566  168.620776\n",
       "4  Xdl7t  1.988431  0.155413  4.751769  154.036647"
      ]
     },
     "execution_count": 4,
     "metadata": {},
     "output_type": "execute_result"
    }
   ],
   "source": [
    "gdata_0.head()"
   ]
  },
  {
   "cell_type": "code",
   "execution_count": 5,
   "metadata": {},
   "outputs": [
    {
     "name": "stdout",
     "output_type": "stream",
     "text": [
      "<class 'pandas.core.frame.DataFrame'>\n",
      "RangeIndex: 100000 entries, 0 to 99999\n",
      "Data columns (total 5 columns):\n",
      " #   Column   Non-Null Count   Dtype  \n",
      "---  ------   --------------   -----  \n",
      " 0   id       100000 non-null  object \n",
      " 1   f0       100000 non-null  float64\n",
      " 2   f1       100000 non-null  float64\n",
      " 3   f2       100000 non-null  float64\n",
      " 4   product  100000 non-null  float64\n",
      "dtypes: float64(4), object(1)\n",
      "memory usage: 3.8+ MB\n"
     ]
    }
   ],
   "source": [
    "gdata_1.info()"
   ]
  },
  {
   "cell_type": "code",
   "execution_count": 6,
   "metadata": {},
   "outputs": [
    {
     "data": {
      "text/html": [
       "<div>\n",
       "<style scoped>\n",
       "    .dataframe tbody tr th:only-of-type {\n",
       "        vertical-align: middle;\n",
       "    }\n",
       "\n",
       "    .dataframe tbody tr th {\n",
       "        vertical-align: top;\n",
       "    }\n",
       "\n",
       "    .dataframe thead th {\n",
       "        text-align: right;\n",
       "    }\n",
       "</style>\n",
       "<table border=\"1\" class=\"dataframe\">\n",
       "  <thead>\n",
       "    <tr style=\"text-align: right;\">\n",
       "      <th></th>\n",
       "      <th>id</th>\n",
       "      <th>f0</th>\n",
       "      <th>f1</th>\n",
       "      <th>f2</th>\n",
       "      <th>product</th>\n",
       "    </tr>\n",
       "  </thead>\n",
       "  <tbody>\n",
       "    <tr>\n",
       "      <th>0</th>\n",
       "      <td>kBEdx</td>\n",
       "      <td>-15.001348</td>\n",
       "      <td>-8.276000</td>\n",
       "      <td>-0.005876</td>\n",
       "      <td>3.179103</td>\n",
       "    </tr>\n",
       "    <tr>\n",
       "      <th>1</th>\n",
       "      <td>62mP7</td>\n",
       "      <td>14.272088</td>\n",
       "      <td>-3.475083</td>\n",
       "      <td>0.999183</td>\n",
       "      <td>26.953261</td>\n",
       "    </tr>\n",
       "    <tr>\n",
       "      <th>2</th>\n",
       "      <td>vyE1P</td>\n",
       "      <td>6.263187</td>\n",
       "      <td>-5.948386</td>\n",
       "      <td>5.001160</td>\n",
       "      <td>134.766305</td>\n",
       "    </tr>\n",
       "    <tr>\n",
       "      <th>3</th>\n",
       "      <td>KcrkZ</td>\n",
       "      <td>-13.081196</td>\n",
       "      <td>-11.506057</td>\n",
       "      <td>4.999415</td>\n",
       "      <td>137.945408</td>\n",
       "    </tr>\n",
       "    <tr>\n",
       "      <th>4</th>\n",
       "      <td>AHL4O</td>\n",
       "      <td>12.702195</td>\n",
       "      <td>-8.147433</td>\n",
       "      <td>5.004363</td>\n",
       "      <td>134.766305</td>\n",
       "    </tr>\n",
       "  </tbody>\n",
       "</table>\n",
       "</div>"
      ],
      "text/plain": [
       "      id         f0         f1        f2     product\n",
       "0  kBEdx -15.001348  -8.276000 -0.005876    3.179103\n",
       "1  62mP7  14.272088  -3.475083  0.999183   26.953261\n",
       "2  vyE1P   6.263187  -5.948386  5.001160  134.766305\n",
       "3  KcrkZ -13.081196 -11.506057  4.999415  137.945408\n",
       "4  AHL4O  12.702195  -8.147433  5.004363  134.766305"
      ]
     },
     "execution_count": 6,
     "metadata": {},
     "output_type": "execute_result"
    }
   ],
   "source": [
    "gdata_1.head()"
   ]
  },
  {
   "cell_type": "code",
   "execution_count": 7,
   "metadata": {},
   "outputs": [
    {
     "name": "stdout",
     "output_type": "stream",
     "text": [
      "<class 'pandas.core.frame.DataFrame'>\n",
      "RangeIndex: 100000 entries, 0 to 99999\n",
      "Data columns (total 5 columns):\n",
      " #   Column   Non-Null Count   Dtype  \n",
      "---  ------   --------------   -----  \n",
      " 0   id       100000 non-null  object \n",
      " 1   f0       100000 non-null  float64\n",
      " 2   f1       100000 non-null  float64\n",
      " 3   f2       100000 non-null  float64\n",
      " 4   product  100000 non-null  float64\n",
      "dtypes: float64(4), object(1)\n",
      "memory usage: 3.8+ MB\n"
     ]
    }
   ],
   "source": [
    "gdata_2.info()"
   ]
  },
  {
   "cell_type": "code",
   "execution_count": 8,
   "metadata": {},
   "outputs": [
    {
     "data": {
      "text/html": [
       "<div>\n",
       "<style scoped>\n",
       "    .dataframe tbody tr th:only-of-type {\n",
       "        vertical-align: middle;\n",
       "    }\n",
       "\n",
       "    .dataframe tbody tr th {\n",
       "        vertical-align: top;\n",
       "    }\n",
       "\n",
       "    .dataframe thead th {\n",
       "        text-align: right;\n",
       "    }\n",
       "</style>\n",
       "<table border=\"1\" class=\"dataframe\">\n",
       "  <thead>\n",
       "    <tr style=\"text-align: right;\">\n",
       "      <th></th>\n",
       "      <th>id</th>\n",
       "      <th>f0</th>\n",
       "      <th>f1</th>\n",
       "      <th>f2</th>\n",
       "      <th>product</th>\n",
       "    </tr>\n",
       "  </thead>\n",
       "  <tbody>\n",
       "    <tr>\n",
       "      <th>0</th>\n",
       "      <td>fwXo0</td>\n",
       "      <td>-1.146987</td>\n",
       "      <td>0.963328</td>\n",
       "      <td>-0.828965</td>\n",
       "      <td>27.758673</td>\n",
       "    </tr>\n",
       "    <tr>\n",
       "      <th>1</th>\n",
       "      <td>WJtFt</td>\n",
       "      <td>0.262778</td>\n",
       "      <td>0.269839</td>\n",
       "      <td>-2.530187</td>\n",
       "      <td>56.069697</td>\n",
       "    </tr>\n",
       "    <tr>\n",
       "      <th>2</th>\n",
       "      <td>ovLUW</td>\n",
       "      <td>0.194587</td>\n",
       "      <td>0.289035</td>\n",
       "      <td>-5.586433</td>\n",
       "      <td>62.871910</td>\n",
       "    </tr>\n",
       "    <tr>\n",
       "      <th>3</th>\n",
       "      <td>q6cA6</td>\n",
       "      <td>2.236060</td>\n",
       "      <td>-0.553760</td>\n",
       "      <td>0.930038</td>\n",
       "      <td>114.572842</td>\n",
       "    </tr>\n",
       "    <tr>\n",
       "      <th>4</th>\n",
       "      <td>WPMUX</td>\n",
       "      <td>-0.515993</td>\n",
       "      <td>1.716266</td>\n",
       "      <td>5.899011</td>\n",
       "      <td>149.600746</td>\n",
       "    </tr>\n",
       "  </tbody>\n",
       "</table>\n",
       "</div>"
      ],
      "text/plain": [
       "      id        f0        f1        f2     product\n",
       "0  fwXo0 -1.146987  0.963328 -0.828965   27.758673\n",
       "1  WJtFt  0.262778  0.269839 -2.530187   56.069697\n",
       "2  ovLUW  0.194587  0.289035 -5.586433   62.871910\n",
       "3  q6cA6  2.236060 -0.553760  0.930038  114.572842\n",
       "4  WPMUX -0.515993  1.716266  5.899011  149.600746"
      ]
     },
     "execution_count": 8,
     "metadata": {},
     "output_type": "execute_result"
    }
   ],
   "source": [
    "gdata_2.head()"
   ]
  },
  {
   "cell_type": "markdown",
   "metadata": {},
   "source": [
    "## Entrenamiento del modelo"
   ]
  },
  {
   "cell_type": "code",
   "execution_count": 9,
   "metadata": {},
   "outputs": [
    {
     "data": {
      "text/html": [
       "<div>\n",
       "<style scoped>\n",
       "    .dataframe tbody tr th:only-of-type {\n",
       "        vertical-align: middle;\n",
       "    }\n",
       "\n",
       "    .dataframe tbody tr th {\n",
       "        vertical-align: top;\n",
       "    }\n",
       "\n",
       "    .dataframe thead th {\n",
       "        text-align: right;\n",
       "    }\n",
       "</style>\n",
       "<table border=\"1\" class=\"dataframe\">\n",
       "  <thead>\n",
       "    <tr style=\"text-align: right;\">\n",
       "      <th></th>\n",
       "      <th>f0</th>\n",
       "      <th>f1</th>\n",
       "      <th>f2</th>\n",
       "      <th>product</th>\n",
       "    </tr>\n",
       "  </thead>\n",
       "  <tbody>\n",
       "    <tr>\n",
       "      <th>61610</th>\n",
       "      <td>1.130386</td>\n",
       "      <td>-0.441906</td>\n",
       "      <td>-2.257733</td>\n",
       "      <td>56.572799</td>\n",
       "    </tr>\n",
       "    <tr>\n",
       "      <th>56485</th>\n",
       "      <td>-0.848382</td>\n",
       "      <td>0.351530</td>\n",
       "      <td>1.923099</td>\n",
       "      <td>76.104538</td>\n",
       "    </tr>\n",
       "    <tr>\n",
       "      <th>90647</th>\n",
       "      <td>1.353919</td>\n",
       "      <td>-0.373898</td>\n",
       "      <td>0.967246</td>\n",
       "      <td>87.374560</td>\n",
       "    </tr>\n",
       "    <tr>\n",
       "      <th>84197</th>\n",
       "      <td>0.895511</td>\n",
       "      <td>-0.552529</td>\n",
       "      <td>1.863586</td>\n",
       "      <td>119.849452</td>\n",
       "    </tr>\n",
       "    <tr>\n",
       "      <th>81393</th>\n",
       "      <td>1.157257</td>\n",
       "      <td>-0.453746</td>\n",
       "      <td>-2.338338</td>\n",
       "      <td>90.228425</td>\n",
       "    </tr>\n",
       "    <tr>\n",
       "      <th>34667</th>\n",
       "      <td>-0.749415</td>\n",
       "      <td>0.816496</td>\n",
       "      <td>-0.323793</td>\n",
       "      <td>87.776423</td>\n",
       "    </tr>\n",
       "    <tr>\n",
       "      <th>27444</th>\n",
       "      <td>0.173758</td>\n",
       "      <td>-0.433911</td>\n",
       "      <td>1.514347</td>\n",
       "      <td>73.069829</td>\n",
       "    </tr>\n",
       "    <tr>\n",
       "      <th>88575</th>\n",
       "      <td>0.819594</td>\n",
       "      <td>0.676734</td>\n",
       "      <td>1.662984</td>\n",
       "      <td>42.385929</td>\n",
       "    </tr>\n",
       "    <tr>\n",
       "      <th>72938</th>\n",
       "      <td>0.071754</td>\n",
       "      <td>1.024392</td>\n",
       "      <td>-3.165249</td>\n",
       "      <td>2.901772</td>\n",
       "    </tr>\n",
       "    <tr>\n",
       "      <th>15225</th>\n",
       "      <td>1.243883</td>\n",
       "      <td>-0.387798</td>\n",
       "      <td>9.947105</td>\n",
       "      <td>151.576121</td>\n",
       "    </tr>\n",
       "  </tbody>\n",
       "</table>\n",
       "</div>"
      ],
      "text/plain": [
       "             f0        f1        f2     product\n",
       "61610  1.130386 -0.441906 -2.257733   56.572799\n",
       "56485 -0.848382  0.351530  1.923099   76.104538\n",
       "90647  1.353919 -0.373898  0.967246   87.374560\n",
       "84197  0.895511 -0.552529  1.863586  119.849452\n",
       "81393  1.157257 -0.453746 -2.338338   90.228425\n",
       "34667 -0.749415  0.816496 -0.323793   87.776423\n",
       "27444  0.173758 -0.433911  1.514347   73.069829\n",
       "88575  0.819594  0.676734  1.662984   42.385929\n",
       "72938  0.071754  1.024392 -3.165249    2.901772\n",
       "15225  1.243883 -0.387798  9.947105  151.576121"
      ]
     },
     "execution_count": 9,
     "metadata": {},
     "output_type": "execute_result"
    }
   ],
   "source": [
    "#Se remueven las columnas que se considera que no son prescindibles para realizan las predicciones\n",
    "\n",
    "gdata_0 = gdata_0.drop(columns = ['id'])\n",
    "gdata_0.sample(10)"
   ]
  },
  {
   "cell_type": "code",
   "execution_count": 10,
   "metadata": {},
   "outputs": [],
   "source": [
    "features0 = gdata_0.drop(['product'], axis=1) #Se extrae la columna objetivo de las características\n",
    "target0 = gdata_0['product'] #Se asigna la columna objetivo"
   ]
  },
  {
   "cell_type": "code",
   "execution_count": 11,
   "metadata": {},
   "outputs": [],
   "source": [
    "#se segmenta el 25% de los datos para hacer el conjunto de validación\n",
    "\n",
    "features_train0, features_valid0, target_train0, target_valid0 = train_test_split(\n",
    "    features0, \n",
    "    target0, \n",
    "    test_size=0.25, \n",
    "    random_state=12345\n",
    ")"
   ]
  },
  {
   "cell_type": "code",
   "execution_count": 12,
   "metadata": {},
   "outputs": [
    {
     "data": {
      "text/html": [
       "<div>\n",
       "<style scoped>\n",
       "    .dataframe tbody tr th:only-of-type {\n",
       "        vertical-align: middle;\n",
       "    }\n",
       "\n",
       "    .dataframe tbody tr th {\n",
       "        vertical-align: top;\n",
       "    }\n",
       "\n",
       "    .dataframe thead th {\n",
       "        text-align: right;\n",
       "    }\n",
       "</style>\n",
       "<table border=\"1\" class=\"dataframe\">\n",
       "  <thead>\n",
       "    <tr style=\"text-align: right;\">\n",
       "      <th></th>\n",
       "      <th>f0</th>\n",
       "      <th>f1</th>\n",
       "      <th>f2</th>\n",
       "    </tr>\n",
       "  </thead>\n",
       "  <tbody>\n",
       "    <tr>\n",
       "      <th>27212</th>\n",
       "      <td>-0.544828</td>\n",
       "      <td>1.390264</td>\n",
       "      <td>-0.094959</td>\n",
       "    </tr>\n",
       "    <tr>\n",
       "      <th>7866</th>\n",
       "      <td>1.455912</td>\n",
       "      <td>-0.480422</td>\n",
       "      <td>1.209567</td>\n",
       "    </tr>\n",
       "    <tr>\n",
       "      <th>62041</th>\n",
       "      <td>0.260460</td>\n",
       "      <td>0.825069</td>\n",
       "      <td>-0.204865</td>\n",
       "    </tr>\n",
       "    <tr>\n",
       "      <th>70185</th>\n",
       "      <td>-1.837105</td>\n",
       "      <td>0.010321</td>\n",
       "      <td>-0.147634</td>\n",
       "    </tr>\n",
       "    <tr>\n",
       "      <th>82230</th>\n",
       "      <td>-1.299243</td>\n",
       "      <td>0.987558</td>\n",
       "      <td>1.273181</td>\n",
       "    </tr>\n",
       "  </tbody>\n",
       "</table>\n",
       "</div>"
      ],
      "text/plain": [
       "             f0        f1        f2\n",
       "27212 -0.544828  1.390264 -0.094959\n",
       "7866   1.455912 -0.480422  1.209567\n",
       "62041  0.260460  0.825069 -0.204865\n",
       "70185 -1.837105  0.010321 -0.147634\n",
       "82230 -1.299243  0.987558  1.273181"
      ]
     },
     "execution_count": 12,
     "metadata": {},
     "output_type": "execute_result"
    }
   ],
   "source": [
    "#Escalado de características - Estandarización\n",
    "\n",
    "numeric = ['f0', 'f1', 'f2']\n",
    "\n",
    "scaler = StandardScaler()\n",
    "scaler.fit(features_train0[numeric])\n",
    "\n",
    "#Transformar los datos\n",
    "features_train0[numeric] = scaler.transform(features_train0[numeric])\n",
    "features_valid0[numeric] = scaler.transform(features_valid0[numeric])\n",
    "\n",
    "features_train0.head()"
   ]
  },
  {
   "cell_type": "code",
   "execution_count": 13,
   "metadata": {},
   "outputs": [
    {
     "data": {
      "text/html": [
       "<div>\n",
       "<style scoped>\n",
       "    .dataframe tbody tr th:only-of-type {\n",
       "        vertical-align: middle;\n",
       "    }\n",
       "\n",
       "    .dataframe tbody tr th {\n",
       "        vertical-align: top;\n",
       "    }\n",
       "\n",
       "    .dataframe thead th {\n",
       "        text-align: right;\n",
       "    }\n",
       "</style>\n",
       "<table border=\"1\" class=\"dataframe\">\n",
       "  <thead>\n",
       "    <tr style=\"text-align: right;\">\n",
       "      <th></th>\n",
       "      <th>f0</th>\n",
       "      <th>f1</th>\n",
       "      <th>f2</th>\n",
       "    </tr>\n",
       "  </thead>\n",
       "  <tbody>\n",
       "    <tr>\n",
       "      <th>count</th>\n",
       "      <td>75000.0</td>\n",
       "      <td>75000.0</td>\n",
       "      <td>75000.0</td>\n",
       "    </tr>\n",
       "    <tr>\n",
       "      <th>mean</th>\n",
       "      <td>0.0</td>\n",
       "      <td>-0.0</td>\n",
       "      <td>0.0</td>\n",
       "    </tr>\n",
       "    <tr>\n",
       "      <th>std</th>\n",
       "      <td>1.0</td>\n",
       "      <td>1.0</td>\n",
       "      <td>1.0</td>\n",
       "    </tr>\n",
       "    <tr>\n",
       "      <th>min</th>\n",
       "      <td>-2.0</td>\n",
       "      <td>-2.0</td>\n",
       "      <td>-4.0</td>\n",
       "    </tr>\n",
       "    <tr>\n",
       "      <th>25%</th>\n",
       "      <td>-1.0</td>\n",
       "      <td>-1.0</td>\n",
       "      <td>-1.0</td>\n",
       "    </tr>\n",
       "    <tr>\n",
       "      <th>50%</th>\n",
       "      <td>0.0</td>\n",
       "      <td>-0.0</td>\n",
       "      <td>0.0</td>\n",
       "    </tr>\n",
       "    <tr>\n",
       "      <th>75%</th>\n",
       "      <td>1.0</td>\n",
       "      <td>1.0</td>\n",
       "      <td>1.0</td>\n",
       "    </tr>\n",
       "    <tr>\n",
       "      <th>max</th>\n",
       "      <td>2.0</td>\n",
       "      <td>2.0</td>\n",
       "      <td>4.0</td>\n",
       "    </tr>\n",
       "  </tbody>\n",
       "</table>\n",
       "</div>"
      ],
      "text/plain": [
       "            f0       f1       f2\n",
       "count  75000.0  75000.0  75000.0\n",
       "mean       0.0     -0.0      0.0\n",
       "std        1.0      1.0      1.0\n",
       "min       -2.0     -2.0     -4.0\n",
       "25%       -1.0     -1.0     -1.0\n",
       "50%        0.0     -0.0      0.0\n",
       "75%        1.0      1.0      1.0\n",
       "max        2.0      2.0      4.0"
      ]
     },
     "execution_count": 13,
     "metadata": {},
     "output_type": "execute_result"
    }
   ],
   "source": [
    "features_train0[numeric].describe().apply(round)"
   ]
  },
  {
   "cell_type": "code",
   "execution_count": 14,
   "metadata": {},
   "outputs": [
    {
     "data": {
      "text/html": [
       "<div>\n",
       "<style scoped>\n",
       "    .dataframe tbody tr th:only-of-type {\n",
       "        vertical-align: middle;\n",
       "    }\n",
       "\n",
       "    .dataframe tbody tr th {\n",
       "        vertical-align: top;\n",
       "    }\n",
       "\n",
       "    .dataframe thead th {\n",
       "        text-align: right;\n",
       "    }\n",
       "</style>\n",
       "<table border=\"1\" class=\"dataframe\">\n",
       "  <thead>\n",
       "    <tr style=\"text-align: right;\">\n",
       "      <th></th>\n",
       "      <th>f0</th>\n",
       "      <th>f1</th>\n",
       "      <th>f2</th>\n",
       "    </tr>\n",
       "  </thead>\n",
       "  <tbody>\n",
       "    <tr>\n",
       "      <th>count</th>\n",
       "      <td>25000.0</td>\n",
       "      <td>25000.0</td>\n",
       "      <td>25000.0</td>\n",
       "    </tr>\n",
       "    <tr>\n",
       "      <th>mean</th>\n",
       "      <td>0.0</td>\n",
       "      <td>0.0</td>\n",
       "      <td>-0.0</td>\n",
       "    </tr>\n",
       "    <tr>\n",
       "      <th>std</th>\n",
       "      <td>1.0</td>\n",
       "      <td>1.0</td>\n",
       "      <td>1.0</td>\n",
       "    </tr>\n",
       "    <tr>\n",
       "      <th>min</th>\n",
       "      <td>-2.0</td>\n",
       "      <td>-2.0</td>\n",
       "      <td>-4.0</td>\n",
       "    </tr>\n",
       "    <tr>\n",
       "      <th>25%</th>\n",
       "      <td>-1.0</td>\n",
       "      <td>-1.0</td>\n",
       "      <td>-1.0</td>\n",
       "    </tr>\n",
       "    <tr>\n",
       "      <th>50%</th>\n",
       "      <td>0.0</td>\n",
       "      <td>0.0</td>\n",
       "      <td>-0.0</td>\n",
       "    </tr>\n",
       "    <tr>\n",
       "      <th>75%</th>\n",
       "      <td>1.0</td>\n",
       "      <td>1.0</td>\n",
       "      <td>1.0</td>\n",
       "    </tr>\n",
       "    <tr>\n",
       "      <th>max</th>\n",
       "      <td>2.0</td>\n",
       "      <td>2.0</td>\n",
       "      <td>4.0</td>\n",
       "    </tr>\n",
       "  </tbody>\n",
       "</table>\n",
       "</div>"
      ],
      "text/plain": [
       "            f0       f1       f2\n",
       "count  25000.0  25000.0  25000.0\n",
       "mean       0.0      0.0     -0.0\n",
       "std        1.0      1.0      1.0\n",
       "min       -2.0     -2.0     -4.0\n",
       "25%       -1.0     -1.0     -1.0\n",
       "50%        0.0      0.0     -0.0\n",
       "75%        1.0      1.0      1.0\n",
       "max        2.0      2.0      4.0"
      ]
     },
     "execution_count": 14,
     "metadata": {},
     "output_type": "execute_result"
    }
   ],
   "source": [
    "features_valid0[numeric].describe().apply(round)"
   ]
  },
  {
   "cell_type": "code",
   "execution_count": 15,
   "metadata": {},
   "outputs": [
    {
     "data": {
      "text/html": [
       "<div>\n",
       "<style scoped>\n",
       "    .dataframe tbody tr th:only-of-type {\n",
       "        vertical-align: middle;\n",
       "    }\n",
       "\n",
       "    .dataframe tbody tr th {\n",
       "        vertical-align: top;\n",
       "    }\n",
       "\n",
       "    .dataframe thead th {\n",
       "        text-align: right;\n",
       "    }\n",
       "</style>\n",
       "<table border=\"1\" class=\"dataframe\">\n",
       "  <thead>\n",
       "    <tr style=\"text-align: right;\">\n",
       "      <th></th>\n",
       "      <th>f0</th>\n",
       "      <th>f1</th>\n",
       "      <th>f2</th>\n",
       "    </tr>\n",
       "  </thead>\n",
       "  <tbody>\n",
       "    <tr>\n",
       "      <th>71592</th>\n",
       "      <td>-0.649330</td>\n",
       "      <td>-0.200508</td>\n",
       "      <td>-0.085337</td>\n",
       "    </tr>\n",
       "    <tr>\n",
       "      <th>83291</th>\n",
       "      <td>0.967111</td>\n",
       "      <td>-1.344335</td>\n",
       "      <td>-0.599326</td>\n",
       "    </tr>\n",
       "    <tr>\n",
       "      <th>6971</th>\n",
       "      <td>0.172448</td>\n",
       "      <td>0.773332</td>\n",
       "      <td>-0.246700</td>\n",
       "    </tr>\n",
       "    <tr>\n",
       "      <th>58871</th>\n",
       "      <td>-0.541633</td>\n",
       "      <td>0.537776</td>\n",
       "      <td>-0.303746</td>\n",
       "    </tr>\n",
       "    <tr>\n",
       "      <th>17408</th>\n",
       "      <td>-0.108631</td>\n",
       "      <td>1.257758</td>\n",
       "      <td>-2.550992</td>\n",
       "    </tr>\n",
       "  </tbody>\n",
       "</table>\n",
       "</div>"
      ],
      "text/plain": [
       "             f0        f1        f2\n",
       "71592 -0.649330 -0.200508 -0.085337\n",
       "83291  0.967111 -1.344335 -0.599326\n",
       "6971   0.172448  0.773332 -0.246700\n",
       "58871 -0.541633  0.537776 -0.303746\n",
       "17408 -0.108631  1.257758 -2.550992"
      ]
     },
     "execution_count": 15,
     "metadata": {},
     "output_type": "execute_result"
    }
   ],
   "source": [
    "features_train0.sample(5)"
   ]
  },
  {
   "cell_type": "code",
   "execution_count": 16,
   "metadata": {},
   "outputs": [
    {
     "name": "stdout",
     "output_type": "stream",
     "text": [
      "RMSE del modelo de regresión lineal en el conjunto de validación: 37.5794217150813\n",
      "Volúmen medio de reservas: 92.59256778438035\n"
     ]
    }
   ],
   "source": [
    "model = LinearRegression() # inicializa el constructor de modelos\n",
    "model.fit(features_train0, target_train0) # entrena el modelo en el conjunto de entrenamiento\n",
    "predictions_valid0 = model.predict(features_valid0) # obtén las predicciones del modelo en el conjunto de validación\n",
    "\n",
    "mean0 = predictions_valid0.mean()\n",
    "target_valid0 = target_valid0.reset_index(drop=True)\n",
    "predictions_valid0 = pd.Series(predictions_valid0)\n",
    "\n",
    "result0 = mean_squared_error(target_valid0, predictions_valid0)**0.5 # calcula la RECM en el conjunto de validación\n",
    "print(\"RMSE del modelo de regresión lineal en el conjunto de validación:\", result0)\n",
    "print(\"Volúmen medio de reservas:\", mean0)"
   ]
  },
  {
   "cell_type": "code",
   "execution_count": 17,
   "metadata": {},
   "outputs": [
    {
     "name": "stdout",
     "output_type": "stream",
     "text": [
      "Prueba de cordura\n",
      "MSE = 1961.5678757223516\n",
      "RMSE = 44.289591053907365\n"
     ]
    }
   ],
   "source": [
    "#Se realiza la Prueba de cordura\n",
    "\n",
    "predicted_valid0 = pd.Series(target_train0.mean(), index=target_valid0.index)\n",
    "mse0 = mean_squared_error(target_valid0, predicted_valid0)\n",
    "    \n",
    "print('Prueba de cordura')\n",
    "print('MSE =', mse0)\n",
    "print('RMSE =', mse0 ** 0.5)"
   ]
  },
  {
   "cell_type": "code",
   "execution_count": 18,
   "metadata": {},
   "outputs": [],
   "source": [
    "#Pasando a funciones pasos previos para aplicarlos a las regiones faltantes\n",
    "\n",
    "def modelo (df, features, target):\n",
    "    \n",
    "    # segmenta el 25% de los datos para hacer el conjunto de validación\n",
    "    features_train, features_valid, target_train, target_valid = train_test_split(\n",
    "        features, \n",
    "        target, \n",
    "        test_size=0.25, \n",
    "        random_state=12345\n",
    "    )\n",
    "    \n",
    "    #Escalado de características - Estandarización\n",
    "    numeric = ['f0', 'f1', 'f2']\n",
    "\n",
    "    scaler = StandardScaler()\n",
    "    scaler.fit(features_train[numeric])\n",
    "\n",
    "    #Transformar los datos\n",
    "    features_train[numeric] = scaler.transform(features_train[numeric])\n",
    "    features_valid[numeric] = scaler.transform(features_valid[numeric])\n",
    "\n",
    "    features_train.head()\n",
    "    \n",
    "    model = LinearRegression() \n",
    "    model.fit(features_train, target_train)\n",
    "    predictions_valid = model.predict(features_valid) \n",
    "\n",
    "    mean = predictions_valid.mean()\n",
    "    target_valid = target_valid.reset_index(drop=True)\n",
    "    \n",
    "    predictions_valid = pd.Series(predictions_valid)\n",
    "    result = mean_squared_error(target_valid, predictions_valid)**0.5 \n",
    "    print(\"RMSE del modelo de regresión lineal en el conjunto de validación:\", result)\n",
    "    print(\"Volúmen medio de reservas:\", mean)\n",
    "    print()\n",
    "    \n",
    "    #Se realiza la Prueba de cordura\n",
    "    predicted_valid = pd.Series(target_train.mean(), index=target_valid.index)\n",
    "    mse = mean_squared_error(target_valid, predicted_valid)\n",
    "\n",
    "    print('Prueba de cordura')\n",
    "    print('MSE =', mse)\n",
    "    print('RMSE =', mse ** 0.5)\n",
    "    \n",
    "    return target_valid, result, mean, predictions_valid"
   ]
  },
  {
   "cell_type": "code",
   "execution_count": 19,
   "metadata": {},
   "outputs": [
    {
     "data": {
      "text/html": [
       "<div>\n",
       "<style scoped>\n",
       "    .dataframe tbody tr th:only-of-type {\n",
       "        vertical-align: middle;\n",
       "    }\n",
       "\n",
       "    .dataframe tbody tr th {\n",
       "        vertical-align: top;\n",
       "    }\n",
       "\n",
       "    .dataframe thead th {\n",
       "        text-align: right;\n",
       "    }\n",
       "</style>\n",
       "<table border=\"1\" class=\"dataframe\">\n",
       "  <thead>\n",
       "    <tr style=\"text-align: right;\">\n",
       "      <th></th>\n",
       "      <th>f0</th>\n",
       "      <th>f1</th>\n",
       "      <th>f2</th>\n",
       "      <th>product</th>\n",
       "    </tr>\n",
       "  </thead>\n",
       "  <tbody>\n",
       "    <tr>\n",
       "      <th>21110</th>\n",
       "      <td>-3.280062</td>\n",
       "      <td>-2.686901</td>\n",
       "      <td>4.004253</td>\n",
       "      <td>110.992147</td>\n",
       "    </tr>\n",
       "    <tr>\n",
       "      <th>9393</th>\n",
       "      <td>11.403736</td>\n",
       "      <td>-3.116396</td>\n",
       "      <td>-0.007355</td>\n",
       "      <td>0.000000</td>\n",
       "    </tr>\n",
       "    <tr>\n",
       "      <th>43887</th>\n",
       "      <td>3.039728</td>\n",
       "      <td>-5.296816</td>\n",
       "      <td>5.001500</td>\n",
       "      <td>134.766305</td>\n",
       "    </tr>\n",
       "    <tr>\n",
       "      <th>8247</th>\n",
       "      <td>13.502119</td>\n",
       "      <td>0.463354</td>\n",
       "      <td>3.003647</td>\n",
       "      <td>80.859783</td>\n",
       "    </tr>\n",
       "    <tr>\n",
       "      <th>78316</th>\n",
       "      <td>0.422409</td>\n",
       "      <td>-5.062173</td>\n",
       "      <td>0.994122</td>\n",
       "      <td>30.132364</td>\n",
       "    </tr>\n",
       "    <tr>\n",
       "      <th>32135</th>\n",
       "      <td>-0.006197</td>\n",
       "      <td>-5.048122</td>\n",
       "      <td>2.000389</td>\n",
       "      <td>57.085625</td>\n",
       "    </tr>\n",
       "    <tr>\n",
       "      <th>95076</th>\n",
       "      <td>11.579775</td>\n",
       "      <td>-2.869554</td>\n",
       "      <td>1.003051</td>\n",
       "      <td>26.953261</td>\n",
       "    </tr>\n",
       "    <tr>\n",
       "      <th>57302</th>\n",
       "      <td>10.153843</td>\n",
       "      <td>0.348896</td>\n",
       "      <td>0.004435</td>\n",
       "      <td>0.000000</td>\n",
       "    </tr>\n",
       "    <tr>\n",
       "      <th>88623</th>\n",
       "      <td>-11.240220</td>\n",
       "      <td>-10.329115</td>\n",
       "      <td>2.998659</td>\n",
       "      <td>84.038886</td>\n",
       "    </tr>\n",
       "    <tr>\n",
       "      <th>62565</th>\n",
       "      <td>8.480175</td>\n",
       "      <td>-1.278552</td>\n",
       "      <td>-0.012756</td>\n",
       "      <td>0.000000</td>\n",
       "    </tr>\n",
       "  </tbody>\n",
       "</table>\n",
       "</div>"
      ],
      "text/plain": [
       "              f0         f1        f2     product\n",
       "21110  -3.280062  -2.686901  4.004253  110.992147\n",
       "9393   11.403736  -3.116396 -0.007355    0.000000\n",
       "43887   3.039728  -5.296816  5.001500  134.766305\n",
       "8247   13.502119   0.463354  3.003647   80.859783\n",
       "78316   0.422409  -5.062173  0.994122   30.132364\n",
       "32135  -0.006197  -5.048122  2.000389   57.085625\n",
       "95076  11.579775  -2.869554  1.003051   26.953261\n",
       "57302  10.153843   0.348896  0.004435    0.000000\n",
       "88623 -11.240220 -10.329115  2.998659   84.038886\n",
       "62565   8.480175  -1.278552 -0.012756    0.000000"
      ]
     },
     "execution_count": 19,
     "metadata": {},
     "output_type": "execute_result"
    }
   ],
   "source": [
    "#Se remueven las columnas que se considera que no son prescindibles para realizan las predicciones\n",
    "\n",
    "gdata_1 = gdata_1.drop(columns = ['id'])\n",
    "gdata_1.sample(10)"
   ]
  },
  {
   "cell_type": "code",
   "execution_count": 20,
   "metadata": {},
   "outputs": [],
   "source": [
    "features1 = gdata_1.drop(['product'], axis=1) #Se extrae la columna objetivo de las características\n",
    "target1 = gdata_1['product'] #Se asigna la columna objetivo"
   ]
  },
  {
   "cell_type": "code",
   "execution_count": 21,
   "metadata": {},
   "outputs": [
    {
     "name": "stdout",
     "output_type": "stream",
     "text": [
      "RMSE del modelo de regresión lineal en el conjunto de validación: 0.893099286775617\n",
      "Volúmen medio de reservas: 68.728546895446\n",
      "\n",
      "Prueba de cordura\n",
      "MSE = 2117.9734309299147\n",
      "RMSE = 46.02144533725462\n"
     ]
    }
   ],
   "source": [
    "#Se entrena el modeto de la región 1\n",
    "\n",
    "target_valid1, result1, mean1, predictions_valid1 = modelo(gdata_1, features1, target1)"
   ]
  },
  {
   "cell_type": "code",
   "execution_count": 22,
   "metadata": {},
   "outputs": [
    {
     "data": {
      "text/html": [
       "<div>\n",
       "<style scoped>\n",
       "    .dataframe tbody tr th:only-of-type {\n",
       "        vertical-align: middle;\n",
       "    }\n",
       "\n",
       "    .dataframe tbody tr th {\n",
       "        vertical-align: top;\n",
       "    }\n",
       "\n",
       "    .dataframe thead th {\n",
       "        text-align: right;\n",
       "    }\n",
       "</style>\n",
       "<table border=\"1\" class=\"dataframe\">\n",
       "  <thead>\n",
       "    <tr style=\"text-align: right;\">\n",
       "      <th></th>\n",
       "      <th>f0</th>\n",
       "      <th>f1</th>\n",
       "      <th>f2</th>\n",
       "      <th>product</th>\n",
       "    </tr>\n",
       "  </thead>\n",
       "  <tbody>\n",
       "    <tr>\n",
       "      <th>56979</th>\n",
       "      <td>0.148639</td>\n",
       "      <td>0.954589</td>\n",
       "      <td>3.717128</td>\n",
       "      <td>72.293743</td>\n",
       "    </tr>\n",
       "    <tr>\n",
       "      <th>3063</th>\n",
       "      <td>-2.109929</td>\n",
       "      <td>0.242462</td>\n",
       "      <td>-0.070448</td>\n",
       "      <td>111.749096</td>\n",
       "    </tr>\n",
       "    <tr>\n",
       "      <th>65456</th>\n",
       "      <td>-0.016221</td>\n",
       "      <td>-1.930835</td>\n",
       "      <td>2.921053</td>\n",
       "      <td>47.175453</td>\n",
       "    </tr>\n",
       "    <tr>\n",
       "      <th>33536</th>\n",
       "      <td>-1.702089</td>\n",
       "      <td>0.125917</td>\n",
       "      <td>-1.180326</td>\n",
       "      <td>40.470811</td>\n",
       "    </tr>\n",
       "    <tr>\n",
       "      <th>64697</th>\n",
       "      <td>-0.011876</td>\n",
       "      <td>0.179763</td>\n",
       "      <td>-3.067359</td>\n",
       "      <td>99.784953</td>\n",
       "    </tr>\n",
       "    <tr>\n",
       "      <th>68907</th>\n",
       "      <td>-0.382081</td>\n",
       "      <td>2.997638</td>\n",
       "      <td>5.632393</td>\n",
       "      <td>80.355823</td>\n",
       "    </tr>\n",
       "    <tr>\n",
       "      <th>84964</th>\n",
       "      <td>1.087359</td>\n",
       "      <td>0.601750</td>\n",
       "      <td>8.023379</td>\n",
       "      <td>116.805040</td>\n",
       "    </tr>\n",
       "    <tr>\n",
       "      <th>96124</th>\n",
       "      <td>-1.172546</td>\n",
       "      <td>3.345244</td>\n",
       "      <td>-0.058521</td>\n",
       "      <td>128.944565</td>\n",
       "    </tr>\n",
       "    <tr>\n",
       "      <th>1243</th>\n",
       "      <td>-2.527621</td>\n",
       "      <td>-1.494803</td>\n",
       "      <td>-2.085589</td>\n",
       "      <td>124.659301</td>\n",
       "    </tr>\n",
       "    <tr>\n",
       "      <th>79773</th>\n",
       "      <td>-1.321886</td>\n",
       "      <td>-1.227473</td>\n",
       "      <td>0.035542</td>\n",
       "      <td>146.590598</td>\n",
       "    </tr>\n",
       "  </tbody>\n",
       "</table>\n",
       "</div>"
      ],
      "text/plain": [
       "             f0        f1        f2     product\n",
       "56979  0.148639  0.954589  3.717128   72.293743\n",
       "3063  -2.109929  0.242462 -0.070448  111.749096\n",
       "65456 -0.016221 -1.930835  2.921053   47.175453\n",
       "33536 -1.702089  0.125917 -1.180326   40.470811\n",
       "64697 -0.011876  0.179763 -3.067359   99.784953\n",
       "68907 -0.382081  2.997638  5.632393   80.355823\n",
       "84964  1.087359  0.601750  8.023379  116.805040\n",
       "96124 -1.172546  3.345244 -0.058521  128.944565\n",
       "1243  -2.527621 -1.494803 -2.085589  124.659301\n",
       "79773 -1.321886 -1.227473  0.035542  146.590598"
      ]
     },
     "execution_count": 22,
     "metadata": {},
     "output_type": "execute_result"
    }
   ],
   "source": [
    "#Se remueven las columnas que se considera que no son prescindibles para realizan las predicciones\n",
    "\n",
    "gdata_2 = gdata_2.drop(columns = ['id'])\n",
    "gdata_2.sample(10)"
   ]
  },
  {
   "cell_type": "code",
   "execution_count": 23,
   "metadata": {},
   "outputs": [],
   "source": [
    "features2 = gdata_2.drop(['product'], axis=1) #Se extrae la columna objetivo de las características\n",
    "target2 = gdata_2['product'] #Se asigna la columna objetivo"
   ]
  },
  {
   "cell_type": "code",
   "execution_count": 24,
   "metadata": {},
   "outputs": [
    {
     "name": "stdout",
     "output_type": "stream",
     "text": [
      "RMSE del modelo de regresión lineal en el conjunto de validación: 40.02970873393434\n",
      "Volúmen medio de reservas: 94.96504596800489\n",
      "\n",
      "Prueba de cordura\n",
      "MSE = 2016.2210072435087\n",
      "RMSE = 44.90234968510566\n"
     ]
    }
   ],
   "source": [
    "#Se entrena el modelo para la región 2\n",
    "\n",
    "target_valid2, result2, mean2, predictions_valid2 = modelo(gdata_2, features2, target2)"
   ]
  },
  {
   "cell_type": "markdown",
   "metadata": {},
   "source": [
    "Como podemos visualizar, al analizar el volúmen medio de reservas de cada una de las regiones, tenemos que en la región 2 el volúmen promedio es menor al esperado para evitar pérdida, sin embargo es el volúmen más alto de las tres regiones, por lo que hasta el momento es el que se mira más apto para el desarrollo de los pozos. Sin embargo, aún falta realizar análisis más profundo, para tomar una decisión y realizar una recomendación."
   ]
  },
  {
   "cell_type": "markdown",
   "metadata": {},
   "source": [
    "## Calcular ganancias"
   ]
  },
  {
   "cell_type": "markdown",
   "metadata": {},
   "source": [
    "Dada la inversión de 100 millones por 200 pozos petrolíferos, de media un pozo petrolífero debe producir al menos un valor de 500,000 dólares en unidades para evitar pérdidas (esto es equivalente a 111.1 unidades). Compara esta cantidad con la cantidad media de reservas en cada región.\n",
    "Un barril de materias primas genera 4.5 USD de ingresos. El ingreso de una unidad de producto es de 4500 dólares (el volumen de reservas está expresado en miles de barriles).\n",
    "\n",
    "\n",
    "- inversión = 100 mill\n",
    "- pozos = 200 pzs\n",
    "- 1 pozo = 500,000 usd (111.1 u)\n",
    "- 1 barril = 4.5 usd\n",
    "- 1 unidad = 1,000 barriles\n",
    "- 1 unidad = 4,500 usd"
   ]
  },
  {
   "cell_type": "code",
   "execution_count": 25,
   "metadata": {},
   "outputs": [],
   "source": [
    "#función para calcular las ganancias\n",
    "\n",
    "def income_calc (predictions_valid, target_valid):\n",
    "    predictions_valid=predictions_valid.reset_index(drop=True)\n",
    "    target_valid=target_valid.reset_index(drop= True)\n",
    "    best = predictions_valid.sort_values(ascending=False).head(200)\n",
    "    best = target_valid.iloc[best.index]\n",
    "    best = pd.DataFrame(best, columns=['product'])\n",
    "    \n",
    "    best['income'] = best['product'].multiply(4500)\n",
    "    total_income = best['income'].sum()\n",
    "    \n",
    "    return best, total_income "
   ]
  },
  {
   "cell_type": "code",
   "execution_count": 26,
   "metadata": {},
   "outputs": [
    {
     "name": "stdout",
     "output_type": "stream",
     "text": [
      "Ganancia por el top 200 de pozos en región 0:  33208260.43139851\n",
      "Ganancia por el top 200 de pozos en región 1:  24150866.966815084\n",
      "Ganancia por el top 200 de pozos en región 2:  27103499.63599831\n"
     ]
    }
   ],
   "source": [
    "best0, total_income0 = income_calc(predictions_valid0, target_valid0)\n",
    "print('Ganancia por el top 200 de pozos en región 0: ',total_income0 - 100000000)\n",
    "\n",
    "best1, total_income1 = income_calc(predictions_valid1, target_valid1)\n",
    "print('Ganancia por el top 200 de pozos en región 1: ',total_income1 - 100000000)\n",
    "\n",
    "best2, total_income2 = income_calc(predictions_valid2, target_valid2)\n",
    "print('Ganancia por el top 200 de pozos en región 2: ',total_income2 - 100000000)"
   ]
  },
  {
   "cell_type": "markdown",
   "metadata": {},
   "source": [
    "Al visualizar los resultados, podemos observar que de todas las regiones, la región 2 es la que continúa en el top como el mejor lugar, ya que en esta ocasión muestra que es la opción que arroja la mayor ganancia potencial, dando un aproximado de 69.4 millones de dólares.\n",
    "\n",
    "En este punto, se continuaría teniendo como top la región 2 para realizar el desarrollo de los pozos ya que hasta el momento es la más idónea tanto para realizar la inversión, como para obtener las ganancias y un retorno de inversión de manera más acelerada."
   ]
  },
  {
   "cell_type": "markdown",
   "metadata": {},
   "source": [
    "## Calcular riesgos y ganancias"
   ]
  },
  {
   "cell_type": "code",
   "execution_count": 27,
   "metadata": {},
   "outputs": [],
   "source": [
    "#Función bootstrapping para calcular el beneficio promerio, riesgos de pérdidas e intervalo de confianza a un 95%, para para\n",
    "#cada una de las regiones\n",
    "\n",
    "def bootstrapping(target_valid, predictions_valid):\n",
    "    \n",
    "    values = []\n",
    "    state = np.random.RandomState(12345)\n",
    "    \n",
    "    for i in range(1000):\n",
    "        \n",
    "        target_subsample = target_valid.sample(n=500, random_state=state, replace=True)\n",
    "        probs_subsample = predictions_valid.iloc[target_subsample.index]\n",
    "        \n",
    "        _,total_income = income_calc(probs_subsample, target_subsample)\n",
    "        revenue = total_income - 100000000\n",
    "        values.append(revenue)\n",
    "\n",
    "    values = pd.Series(values)\n",
    "\n",
    "    mean = values.mean()\n",
    "    intervalo_confianza = np.percentile(values, [2.5, 97.5])\n",
    "    \n",
    "    probability_of_lose = np.mean(values < 0)\n",
    "    risk = probability_of_lose * 100\n",
    "    \n",
    "    print(f'Beneficio promedio: ${mean:.2f}')\n",
    "    print(f'Intervalo de confianza del 95%: (${intervalo_confianza[0]:.2f}, ${intervalo_confianza[1]:.2f})')\n",
    "    print(f'Riesgo de pérdidas: {risk:.2f}%')"
   ]
  },
  {
   "cell_type": "code",
   "execution_count": 28,
   "metadata": {},
   "outputs": [
    {
     "name": "stdout",
     "output_type": "stream",
     "text": [
      "Beneficio promedio: $3961649.85\n",
      "Intervalo de confianza del 95%: ($-1112155.46, $9097669.42)\n",
      "Riesgo de pérdidas: 6.90%\n"
     ]
    }
   ],
   "source": [
    "bootstrapping(target_valid0, predictions_valid0)"
   ]
  },
  {
   "cell_type": "code",
   "execution_count": 29,
   "metadata": {},
   "outputs": [
    {
     "name": "stdout",
     "output_type": "stream",
     "text": [
      "Beneficio promedio: $4560451.06\n",
      "Intervalo de confianza del 95%: ($338205.09, $8522894.54)\n",
      "Riesgo de pérdidas: 1.50%\n"
     ]
    }
   ],
   "source": [
    "bootstrapping(target_valid1, predictions_valid1)"
   ]
  },
  {
   "cell_type": "code",
   "execution_count": 30,
   "metadata": {},
   "outputs": [
    {
     "name": "stdout",
     "output_type": "stream",
     "text": [
      "Beneficio promedio: $4044038.67\n",
      "Intervalo de confianza del 95%: ($-1633504.13, $9503595.75)\n",
      "Riesgo de pérdidas: 7.60%\n"
     ]
    }
   ],
   "source": [
    "bootstrapping(target_valid2, predictions_valid2)"
   ]
  },
  {
   "cell_type": "markdown",
   "metadata": {},
   "source": [
    "Al realizar el cálculo de riesgos y ganancias en las tres regiones, podemos observar en la región 1 que, aunque su intervalo de confianza no es el más alto en comparación con las otras dos regiones, si lo es en beneficio promedio y riesgos de pérdida, siendo este último resultado (1.50% pérdida) el único que encaja en los parámetros estipulados en el proyecto. Por lo tanto, en este caso la recomendación sería la región 1."
   ]
  },
  {
   "cell_type": "markdown",
   "metadata": {},
   "source": [
    "## Conclusión"
   ]
  },
  {
   "cell_type": "markdown",
   "metadata": {},
   "source": [
    "Al realizar el cálculo de beneficio promedio, intervalo de confianza y riesgos, podemos observar que la información y recomendación da un giro, esto es porque al analizar los resultados obtenidos en el último bloque, pudimos ver que la que mayor beneficio promedio y menor riesgo representa es la región 1, por lo tanto la recomendación que se proporcionaría es realizar el desarrollo de los 200 pozos es la región 1."
   ]
  }
 ],
 "metadata": {
  "ExecuteTimeLog": [
   {
    "duration": 294,
    "start_time": "2025-02-13T18:56:22.224Z"
   },
   {
    "duration": 546,
    "start_time": "2025-02-13T18:56:26.555Z"
   },
   {
    "duration": 323,
    "start_time": "2025-02-13T18:57:27.943Z"
   },
   {
    "duration": 221,
    "start_time": "2025-02-13T18:57:36.012Z"
   },
   {
    "duration": 12,
    "start_time": "2025-02-13T18:57:50.909Z"
   },
   {
    "duration": 11,
    "start_time": "2025-02-13T18:58:22.727Z"
   },
   {
    "duration": 13,
    "start_time": "2025-02-13T18:58:42.182Z"
   },
   {
    "duration": 12,
    "start_time": "2025-02-13T18:59:16.838Z"
   },
   {
    "duration": 8,
    "start_time": "2025-02-13T18:59:25.481Z"
   },
   {
    "duration": 25,
    "start_time": "2025-02-13T18:59:44.152Z"
   },
   {
    "duration": 8,
    "start_time": "2025-02-13T19:00:22.281Z"
   },
   {
    "duration": 32,
    "start_time": "2025-02-13T19:00:39.228Z"
   },
   {
    "duration": 7,
    "start_time": "2025-02-13T19:00:46.784Z"
   },
   {
    "duration": 2313,
    "start_time": "2025-02-13T19:09:43.431Z"
   },
   {
    "duration": 156,
    "start_time": "2025-02-14T16:19:44.203Z"
   },
   {
    "duration": 2605,
    "start_time": "2025-02-14T16:19:51.745Z"
   },
   {
    "duration": 306,
    "start_time": "2025-02-14T16:19:54.353Z"
   },
   {
    "duration": 12,
    "start_time": "2025-02-14T16:19:54.661Z"
   },
   {
    "duration": 10,
    "start_time": "2025-02-14T16:19:54.675Z"
   },
   {
    "duration": 10,
    "start_time": "2025-02-14T16:19:54.687Z"
   },
   {
    "duration": 7,
    "start_time": "2025-02-14T16:19:54.698Z"
   },
   {
    "duration": 37,
    "start_time": "2025-02-14T16:19:54.707Z"
   },
   {
    "duration": 7,
    "start_time": "2025-02-14T16:19:54.745Z"
   },
   {
    "duration": 10,
    "start_time": "2025-02-14T16:19:54.754Z"
   },
   {
    "duration": 4,
    "start_time": "2025-02-14T16:59:41.472Z"
   },
   {
    "duration": 4,
    "start_time": "2025-02-14T16:59:50.915Z"
   },
   {
    "duration": 11,
    "start_time": "2025-02-14T17:00:47.405Z"
   },
   {
    "duration": 2543,
    "start_time": "2025-02-17T16:10:30.993Z"
   },
   {
    "duration": 294,
    "start_time": "2025-02-17T16:10:33.538Z"
   },
   {
    "duration": 13,
    "start_time": "2025-02-17T16:10:33.834Z"
   },
   {
    "duration": 9,
    "start_time": "2025-02-17T16:10:33.849Z"
   },
   {
    "duration": 10,
    "start_time": "2025-02-17T16:10:33.860Z"
   },
   {
    "duration": 7,
    "start_time": "2025-02-17T16:10:33.871Z"
   },
   {
    "duration": 29,
    "start_time": "2025-02-17T16:10:33.880Z"
   },
   {
    "duration": 8,
    "start_time": "2025-02-17T16:10:33.911Z"
   },
   {
    "duration": 11,
    "start_time": "2025-02-17T16:10:33.920Z"
   },
   {
    "duration": 4,
    "start_time": "2025-02-17T16:10:33.938Z"
   },
   {
    "duration": 10,
    "start_time": "2025-02-17T16:10:33.943Z"
   },
   {
    "duration": 19,
    "start_time": "2025-02-17T16:12:28.044Z"
   },
   {
    "duration": 213,
    "start_time": "2025-02-17T16:13:09.143Z"
   },
   {
    "duration": 15,
    "start_time": "2025-02-17T16:13:19.798Z"
   },
   {
    "duration": 23,
    "start_time": "2025-02-17T16:20:28.854Z"
   },
   {
    "duration": 18,
    "start_time": "2025-02-17T16:20:45.673Z"
   },
   {
    "duration": 8,
    "start_time": "2025-02-17T16:21:13.651Z"
   },
   {
    "duration": 11,
    "start_time": "2025-02-17T16:22:05.454Z"
   },
   {
    "duration": 6,
    "start_time": "2025-02-17T16:55:17.663Z"
   },
   {
    "duration": 9,
    "start_time": "2025-02-17T16:56:09.636Z"
   },
   {
    "duration": 6,
    "start_time": "2025-02-17T16:56:19.454Z"
   },
   {
    "duration": 284,
    "start_time": "2025-02-17T17:24:27.821Z"
   },
   {
    "duration": 4,
    "start_time": "2025-02-17T17:25:05.981Z"
   },
   {
    "duration": 24,
    "start_time": "2025-02-17T17:25:12.220Z"
   },
   {
    "duration": 10,
    "start_time": "2025-02-17T17:39:39.658Z"
   },
   {
    "duration": 7,
    "start_time": "2025-02-17T17:39:42.573Z"
   },
   {
    "duration": 23,
    "start_time": "2025-02-17T17:39:49.442Z"
   },
   {
    "duration": 3,
    "start_time": "2025-02-17T18:16:32.310Z"
   },
   {
    "duration": 3,
    "start_time": "2025-02-17T18:20:14.229Z"
   },
   {
    "duration": 102,
    "start_time": "2025-02-17T18:21:57.127Z"
   },
   {
    "duration": 3,
    "start_time": "2025-02-17T18:25:38.103Z"
   },
   {
    "duration": 3,
    "start_time": "2025-02-17T18:25:40.946Z"
   },
   {
    "duration": 3,
    "start_time": "2025-02-17T18:28:40.859Z"
   },
   {
    "duration": 4,
    "start_time": "2025-02-17T18:28:46.145Z"
   },
   {
    "duration": 4,
    "start_time": "2025-02-17T18:28:53.487Z"
   },
   {
    "duration": 4,
    "start_time": "2025-02-17T18:29:09.933Z"
   },
   {
    "duration": 22,
    "start_time": "2025-02-17T18:43:04.263Z"
   },
   {
    "duration": 611,
    "start_time": "2025-02-17T18:43:40.314Z"
   },
   {
    "duration": 40,
    "start_time": "2025-02-17T18:44:20.503Z"
   },
   {
    "duration": 891,
    "start_time": "2025-02-17T18:44:28.751Z"
   },
   {
    "duration": 216,
    "start_time": "2025-02-17T18:44:29.643Z"
   },
   {
    "duration": 13,
    "start_time": "2025-02-17T18:44:29.861Z"
   },
   {
    "duration": 11,
    "start_time": "2025-02-17T18:44:29.877Z"
   },
   {
    "duration": 24,
    "start_time": "2025-02-17T18:44:29.890Z"
   },
   {
    "duration": 8,
    "start_time": "2025-02-17T18:44:29.916Z"
   },
   {
    "duration": 11,
    "start_time": "2025-02-17T18:44:29.925Z"
   },
   {
    "duration": 8,
    "start_time": "2025-02-17T18:44:29.938Z"
   },
   {
    "duration": 13,
    "start_time": "2025-02-17T18:44:29.948Z"
   },
   {
    "duration": 5,
    "start_time": "2025-02-17T18:44:29.964Z"
   },
   {
    "duration": 43,
    "start_time": "2025-02-17T18:44:29.971Z"
   },
   {
    "duration": 17,
    "start_time": "2025-02-17T18:44:30.015Z"
   },
   {
    "duration": 21,
    "start_time": "2025-02-17T18:44:30.033Z"
   },
   {
    "duration": 16,
    "start_time": "2025-02-17T18:44:30.056Z"
   },
   {
    "duration": 7,
    "start_time": "2025-02-17T18:44:30.073Z"
   },
   {
    "duration": 139,
    "start_time": "2025-02-17T18:44:30.082Z"
   },
   {
    "duration": 5,
    "start_time": "2025-02-17T18:44:30.223Z"
   },
   {
    "duration": 3,
    "start_time": "2025-02-17T18:44:30.229Z"
   },
   {
    "duration": 4,
    "start_time": "2025-02-17T18:44:30.234Z"
   },
   {
    "duration": 3,
    "start_time": "2025-02-17T18:44:30.239Z"
   },
   {
    "duration": 2,
    "start_time": "2025-02-17T18:44:30.244Z"
   },
   {
    "duration": 70,
    "start_time": "2025-02-17T18:44:30.248Z"
   },
   {
    "duration": 12,
    "start_time": "2025-02-17T18:44:44.223Z"
   },
   {
    "duration": 4,
    "start_time": "2025-02-17T18:45:04.471Z"
   },
   {
    "duration": 875,
    "start_time": "2025-02-17T18:45:37.847Z"
   },
   {
    "duration": 214,
    "start_time": "2025-02-17T18:45:38.725Z"
   },
   {
    "duration": 11,
    "start_time": "2025-02-17T18:45:38.941Z"
   },
   {
    "duration": 9,
    "start_time": "2025-02-17T18:45:38.953Z"
   },
   {
    "duration": 10,
    "start_time": "2025-02-17T18:45:38.965Z"
   },
   {
    "duration": 6,
    "start_time": "2025-02-17T18:45:38.977Z"
   },
   {
    "duration": 10,
    "start_time": "2025-02-17T18:45:39.008Z"
   },
   {
    "duration": 6,
    "start_time": "2025-02-17T18:45:39.020Z"
   },
   {
    "duration": 10,
    "start_time": "2025-02-17T18:45:39.028Z"
   },
   {
    "duration": 5,
    "start_time": "2025-02-17T18:45:39.039Z"
   },
   {
    "duration": 10,
    "start_time": "2025-02-17T18:45:39.045Z"
   },
   {
    "duration": 17,
    "start_time": "2025-02-17T18:45:39.056Z"
   },
   {
    "duration": 52,
    "start_time": "2025-02-17T18:45:39.075Z"
   },
   {
    "duration": 20,
    "start_time": "2025-02-17T18:45:39.130Z"
   },
   {
    "duration": 9,
    "start_time": "2025-02-17T18:45:39.151Z"
   },
   {
    "duration": 149,
    "start_time": "2025-02-17T18:45:39.162Z"
   },
   {
    "duration": 5,
    "start_time": "2025-02-17T18:45:39.314Z"
   },
   {
    "duration": 3,
    "start_time": "2025-02-17T18:45:39.321Z"
   },
   {
    "duration": 3,
    "start_time": "2025-02-17T18:45:39.326Z"
   },
   {
    "duration": 3,
    "start_time": "2025-02-17T18:45:39.331Z"
   },
   {
    "duration": 3,
    "start_time": "2025-02-17T18:45:39.336Z"
   },
   {
    "duration": 14,
    "start_time": "2025-02-17T18:45:39.341Z"
   },
   {
    "duration": 12,
    "start_time": "2025-02-17T18:45:39.357Z"
   },
   {
    "duration": 40,
    "start_time": "2025-02-17T18:45:39.370Z"
   },
   {
    "duration": 889,
    "start_time": "2025-02-17T18:48:53.629Z"
   },
   {
    "duration": 238,
    "start_time": "2025-02-17T18:48:54.520Z"
   },
   {
    "duration": 13,
    "start_time": "2025-02-17T18:48:54.759Z"
   },
   {
    "duration": 9,
    "start_time": "2025-02-17T18:48:54.775Z"
   },
   {
    "duration": 27,
    "start_time": "2025-02-17T18:48:54.786Z"
   },
   {
    "duration": 7,
    "start_time": "2025-02-17T18:48:54.815Z"
   },
   {
    "duration": 10,
    "start_time": "2025-02-17T18:48:54.824Z"
   },
   {
    "duration": 7,
    "start_time": "2025-02-17T18:48:54.836Z"
   },
   {
    "duration": 11,
    "start_time": "2025-02-17T18:48:54.845Z"
   },
   {
    "duration": 2,
    "start_time": "2025-02-17T18:48:54.859Z"
   },
   {
    "duration": 46,
    "start_time": "2025-02-17T18:48:54.863Z"
   },
   {
    "duration": 17,
    "start_time": "2025-02-17T18:48:54.911Z"
   },
   {
    "duration": 22,
    "start_time": "2025-02-17T18:48:54.929Z"
   },
   {
    "duration": 17,
    "start_time": "2025-02-17T18:48:54.952Z"
   },
   {
    "duration": 7,
    "start_time": "2025-02-17T18:48:54.970Z"
   },
   {
    "duration": 141,
    "start_time": "2025-02-17T18:48:54.978Z"
   },
   {
    "duration": 5,
    "start_time": "2025-02-17T18:48:55.120Z"
   },
   {
    "duration": 5,
    "start_time": "2025-02-17T18:48:55.126Z"
   },
   {
    "duration": 4,
    "start_time": "2025-02-17T18:49:08.192Z"
   },
   {
    "duration": 868,
    "start_time": "2025-02-17T18:49:19.598Z"
   },
   {
    "duration": 230,
    "start_time": "2025-02-17T18:49:20.468Z"
   },
   {
    "duration": 16,
    "start_time": "2025-02-17T18:49:20.700Z"
   },
   {
    "duration": 9,
    "start_time": "2025-02-17T18:49:20.718Z"
   },
   {
    "duration": 10,
    "start_time": "2025-02-17T18:49:20.729Z"
   },
   {
    "duration": 8,
    "start_time": "2025-02-17T18:49:20.740Z"
   },
   {
    "duration": 10,
    "start_time": "2025-02-17T18:49:20.749Z"
   },
   {
    "duration": 7,
    "start_time": "2025-02-17T18:49:20.761Z"
   },
   {
    "duration": 45,
    "start_time": "2025-02-17T18:49:20.769Z"
   },
   {
    "duration": 3,
    "start_time": "2025-02-17T18:49:20.817Z"
   },
   {
    "duration": 11,
    "start_time": "2025-02-17T18:49:20.821Z"
   },
   {
    "duration": 17,
    "start_time": "2025-02-17T18:49:20.833Z"
   },
   {
    "duration": 22,
    "start_time": "2025-02-17T18:49:20.852Z"
   },
   {
    "duration": 48,
    "start_time": "2025-02-17T18:49:20.875Z"
   },
   {
    "duration": 7,
    "start_time": "2025-02-17T18:49:20.925Z"
   },
   {
    "duration": 89,
    "start_time": "2025-02-17T18:49:20.934Z"
   },
   {
    "duration": 5,
    "start_time": "2025-02-17T18:49:21.024Z"
   },
   {
    "duration": 81,
    "start_time": "2025-02-17T18:49:21.031Z"
   },
   {
    "duration": 12,
    "start_time": "2025-02-17T18:50:00.261Z"
   },
   {
    "duration": 4,
    "start_time": "2025-02-17T18:50:55.136Z"
   },
   {
    "duration": 4,
    "start_time": "2025-02-17T18:51:09.350Z"
   },
   {
    "duration": 109,
    "start_time": "2025-02-17T18:52:05.619Z"
   },
   {
    "duration": 5,
    "start_time": "2025-02-17T18:52:34.477Z"
   },
   {
    "duration": 5,
    "start_time": "2025-02-17T18:52:43.481Z"
   },
   {
    "duration": 113,
    "start_time": "2025-02-17T18:52:50.916Z"
   },
   {
    "duration": 270,
    "start_time": "2025-02-17T18:53:23.782Z"
   },
   {
    "duration": 12,
    "start_time": "2025-02-17T18:53:29.676Z"
   },
   {
    "duration": 16,
    "start_time": "2025-02-17T18:53:45.707Z"
   },
   {
    "duration": 4,
    "start_time": "2025-02-17T18:53:58.130Z"
   },
   {
    "duration": 64,
    "start_time": "2025-02-17T18:54:10.361Z"
   },
   {
    "duration": 2674,
    "start_time": "2025-02-18T16:56:26.188Z"
   },
   {
    "duration": 294,
    "start_time": "2025-02-18T16:56:28.865Z"
   },
   {
    "duration": 12,
    "start_time": "2025-02-18T16:56:29.161Z"
   },
   {
    "duration": 10,
    "start_time": "2025-02-18T16:56:29.175Z"
   },
   {
    "duration": 26,
    "start_time": "2025-02-18T16:56:29.187Z"
   },
   {
    "duration": 7,
    "start_time": "2025-02-18T16:56:29.214Z"
   },
   {
    "duration": 10,
    "start_time": "2025-02-18T16:56:29.223Z"
   },
   {
    "duration": 7,
    "start_time": "2025-02-18T16:56:29.234Z"
   },
   {
    "duration": 11,
    "start_time": "2025-02-18T16:56:29.243Z"
   },
   {
    "duration": 3,
    "start_time": "2025-02-18T16:56:29.256Z"
   },
   {
    "duration": 10,
    "start_time": "2025-02-18T16:56:29.261Z"
   },
   {
    "duration": 50,
    "start_time": "2025-02-18T16:56:29.272Z"
   },
   {
    "duration": 29,
    "start_time": "2025-02-18T16:56:29.324Z"
   },
   {
    "duration": 22,
    "start_time": "2025-02-18T16:56:29.355Z"
   },
   {
    "duration": 35,
    "start_time": "2025-02-18T16:56:29.378Z"
   },
   {
    "duration": 112,
    "start_time": "2025-02-18T16:56:29.415Z"
   },
   {
    "duration": 5,
    "start_time": "2025-02-18T16:56:29.529Z"
   },
   {
    "duration": 7,
    "start_time": "2025-02-18T16:56:29.536Z"
   },
   {
    "duration": 68,
    "start_time": "2025-02-18T16:56:29.545Z"
   },
   {
    "duration": 5,
    "start_time": "2025-02-18T16:56:29.615Z"
   },
   {
    "duration": 189,
    "start_time": "2025-02-18T16:56:29.621Z"
   },
   {
    "duration": 12,
    "start_time": "2025-02-18T16:56:29.812Z"
   },
   {
    "duration": 3,
    "start_time": "2025-02-18T16:56:29.826Z"
   },
   {
    "duration": 180,
    "start_time": "2025-02-18T16:56:29.831Z"
   },
   {
    "duration": 122,
    "start_time": "2025-02-18T16:58:26.998Z"
   },
   {
    "duration": 270,
    "start_time": "2025-02-18T16:58:55.152Z"
   },
   {
    "duration": 99,
    "start_time": "2025-02-18T16:59:06.319Z"
   },
   {
    "duration": 131,
    "start_time": "2025-02-18T16:59:28.083Z"
   },
   {
    "duration": 72,
    "start_time": "2025-02-18T16:59:29.853Z"
   },
   {
    "duration": 874,
    "start_time": "2025-02-18T17:01:20.471Z"
   },
   {
    "duration": 213,
    "start_time": "2025-02-18T17:01:21.347Z"
   },
   {
    "duration": 12,
    "start_time": "2025-02-18T17:01:21.562Z"
   },
   {
    "duration": 11,
    "start_time": "2025-02-18T17:01:21.576Z"
   },
   {
    "duration": 21,
    "start_time": "2025-02-18T17:01:21.588Z"
   },
   {
    "duration": 7,
    "start_time": "2025-02-18T17:01:21.610Z"
   },
   {
    "duration": 11,
    "start_time": "2025-02-18T17:01:21.618Z"
   },
   {
    "duration": 7,
    "start_time": "2025-02-18T17:01:21.630Z"
   },
   {
    "duration": 11,
    "start_time": "2025-02-18T17:01:21.638Z"
   },
   {
    "duration": 3,
    "start_time": "2025-02-18T17:01:21.653Z"
   },
   {
    "duration": 10,
    "start_time": "2025-02-18T17:01:21.657Z"
   },
   {
    "duration": 54,
    "start_time": "2025-02-18T17:01:21.669Z"
   },
   {
    "duration": 21,
    "start_time": "2025-02-18T17:01:21.724Z"
   },
   {
    "duration": 14,
    "start_time": "2025-02-18T17:01:21.747Z"
   },
   {
    "duration": 8,
    "start_time": "2025-02-18T17:01:21.763Z"
   },
   {
    "duration": 58,
    "start_time": "2025-02-18T17:01:21.772Z"
   },
   {
    "duration": 78,
    "start_time": "2025-02-18T17:01:21.831Z"
   },
   {
    "duration": 5,
    "start_time": "2025-02-18T17:01:21.910Z"
   },
   {
    "duration": 12,
    "start_time": "2025-02-18T17:01:21.917Z"
   },
   {
    "duration": 4,
    "start_time": "2025-02-18T17:01:21.931Z"
   },
   {
    "duration": 172,
    "start_time": "2025-02-18T17:01:21.937Z"
   },
   {
    "duration": 11,
    "start_time": "2025-02-18T17:01:22.111Z"
   },
   {
    "duration": 4,
    "start_time": "2025-02-18T17:01:22.123Z"
   },
   {
    "duration": 103,
    "start_time": "2025-02-18T17:01:22.129Z"
   },
   {
    "duration": 108,
    "start_time": "2025-02-18T17:01:45.012Z"
   },
   {
    "duration": 101,
    "start_time": "2025-02-18T17:02:09.413Z"
   },
   {
    "duration": 101,
    "start_time": "2025-02-18T17:02:13.508Z"
   },
   {
    "duration": 135,
    "start_time": "2025-02-18T17:02:22.474Z"
   },
   {
    "duration": 5,
    "start_time": "2025-02-18T17:04:52.795Z"
   },
   {
    "duration": 72,
    "start_time": "2025-02-18T17:10:37.177Z"
   },
   {
    "duration": 31,
    "start_time": "2025-02-18T17:11:04.578Z"
   },
   {
    "duration": 12,
    "start_time": "2025-02-18T17:12:13.378Z"
   },
   {
    "duration": 15,
    "start_time": "2025-02-18T17:12:38.697Z"
   },
   {
    "duration": 26,
    "start_time": "2025-02-18T17:12:49.250Z"
   },
   {
    "duration": 21,
    "start_time": "2025-02-18T17:13:00.443Z"
   },
   {
    "duration": 10,
    "start_time": "2025-02-18T17:13:09.284Z"
   },
   {
    "duration": 106,
    "start_time": "2025-02-18T17:13:50.817Z"
   },
   {
    "duration": 6,
    "start_time": "2025-02-18T17:14:37.289Z"
   },
   {
    "duration": 928,
    "start_time": "2025-02-18T17:14:53.552Z"
   },
   {
    "duration": 238,
    "start_time": "2025-02-18T17:14:54.483Z"
   },
   {
    "duration": 13,
    "start_time": "2025-02-18T17:14:54.723Z"
   },
   {
    "duration": 10,
    "start_time": "2025-02-18T17:14:54.739Z"
   },
   {
    "duration": 11,
    "start_time": "2025-02-18T17:14:54.750Z"
   },
   {
    "duration": 9,
    "start_time": "2025-02-18T17:14:54.763Z"
   },
   {
    "duration": 38,
    "start_time": "2025-02-18T17:14:54.774Z"
   },
   {
    "duration": 7,
    "start_time": "2025-02-18T17:14:54.814Z"
   },
   {
    "duration": 14,
    "start_time": "2025-02-18T17:14:54.822Z"
   },
   {
    "duration": 5,
    "start_time": "2025-02-18T17:14:54.838Z"
   },
   {
    "duration": 13,
    "start_time": "2025-02-18T17:14:54.845Z"
   },
   {
    "duration": 50,
    "start_time": "2025-02-18T17:14:54.860Z"
   },
   {
    "duration": 329,
    "start_time": "2025-02-18T17:14:54.911Z"
   },
   {
    "duration": 0,
    "start_time": "2025-02-18T17:14:55.242Z"
   },
   {
    "duration": 0,
    "start_time": "2025-02-18T17:14:55.243Z"
   },
   {
    "duration": 0,
    "start_time": "2025-02-18T17:14:55.245Z"
   },
   {
    "duration": 0,
    "start_time": "2025-02-18T17:14:55.246Z"
   },
   {
    "duration": 0,
    "start_time": "2025-02-18T17:14:55.247Z"
   },
   {
    "duration": 0,
    "start_time": "2025-02-18T17:14:55.248Z"
   },
   {
    "duration": 0,
    "start_time": "2025-02-18T17:14:55.250Z"
   },
   {
    "duration": 0,
    "start_time": "2025-02-18T17:14:55.251Z"
   },
   {
    "duration": 0,
    "start_time": "2025-02-18T17:14:55.252Z"
   },
   {
    "duration": 0,
    "start_time": "2025-02-18T17:14:55.253Z"
   },
   {
    "duration": 0,
    "start_time": "2025-02-18T17:14:55.254Z"
   },
   {
    "duration": 886,
    "start_time": "2025-02-18T17:15:14.490Z"
   },
   {
    "duration": 215,
    "start_time": "2025-02-18T17:15:15.379Z"
   },
   {
    "duration": 15,
    "start_time": "2025-02-18T17:15:15.596Z"
   },
   {
    "duration": 14,
    "start_time": "2025-02-18T17:15:15.613Z"
   },
   {
    "duration": 13,
    "start_time": "2025-02-18T17:15:15.629Z"
   },
   {
    "duration": 13,
    "start_time": "2025-02-18T17:15:15.644Z"
   },
   {
    "duration": 14,
    "start_time": "2025-02-18T17:15:15.659Z"
   },
   {
    "duration": 9,
    "start_time": "2025-02-18T17:15:15.675Z"
   },
   {
    "duration": 11,
    "start_time": "2025-02-18T17:15:15.708Z"
   },
   {
    "duration": 4,
    "start_time": "2025-02-18T17:15:15.723Z"
   },
   {
    "duration": 11,
    "start_time": "2025-02-18T17:15:15.729Z"
   },
   {
    "duration": 18,
    "start_time": "2025-02-18T17:15:15.741Z"
   },
   {
    "duration": 50,
    "start_time": "2025-02-18T17:15:15.761Z"
   },
   {
    "duration": 20,
    "start_time": "2025-02-18T17:15:15.813Z"
   },
   {
    "duration": 10,
    "start_time": "2025-02-18T17:15:15.835Z"
   },
   {
    "duration": 72,
    "start_time": "2025-02-18T17:15:15.846Z"
   },
   {
    "duration": 7,
    "start_time": "2025-02-18T17:15:15.921Z"
   },
   {
    "duration": 11,
    "start_time": "2025-02-18T17:15:15.929Z"
   },
   {
    "duration": 14,
    "start_time": "2025-02-18T17:15:16.010Z"
   },
   {
    "duration": 5,
    "start_time": "2025-02-18T17:15:16.025Z"
   },
   {
    "duration": 440,
    "start_time": "2025-02-18T17:15:16.032Z"
   },
   {
    "duration": 0,
    "start_time": "2025-02-18T17:15:16.474Z"
   },
   {
    "duration": 0,
    "start_time": "2025-02-18T17:15:16.475Z"
   },
   {
    "duration": 0,
    "start_time": "2025-02-18T17:15:16.480Z"
   },
   {
    "duration": 72,
    "start_time": "2025-02-18T17:17:14.143Z"
   },
   {
    "duration": 5,
    "start_time": "2025-02-18T17:20:25.921Z"
   },
   {
    "duration": 55,
    "start_time": "2025-02-18T17:20:34.572Z"
   },
   {
    "duration": 5,
    "start_time": "2025-02-18T17:21:28.573Z"
   },
   {
    "duration": 29,
    "start_time": "2025-02-18T17:22:02.848Z"
   },
   {
    "duration": 30,
    "start_time": "2025-02-18T17:22:09.767Z"
   },
   {
    "duration": 27,
    "start_time": "2025-02-18T17:22:11.501Z"
   },
   {
    "duration": 4,
    "start_time": "2025-02-18T17:22:30.905Z"
   },
   {
    "duration": 10,
    "start_time": "2025-02-18T17:22:39.093Z"
   },
   {
    "duration": 15,
    "start_time": "2025-02-18T17:22:43.263Z"
   },
   {
    "duration": 29,
    "start_time": "2025-02-18T17:22:49.233Z"
   },
   {
    "duration": 28,
    "start_time": "2025-02-18T17:22:50.552Z"
   },
   {
    "duration": 26,
    "start_time": "2025-02-18T17:22:51.115Z"
   },
   {
    "duration": 5,
    "start_time": "2025-02-18T17:22:55.426Z"
   },
   {
    "duration": 4,
    "start_time": "2025-02-18T17:23:22.189Z"
   },
   {
    "duration": 89,
    "start_time": "2025-02-18T17:23:41.915Z"
   },
   {
    "duration": 898,
    "start_time": "2025-02-18T17:24:29.136Z"
   },
   {
    "duration": 213,
    "start_time": "2025-02-18T17:24:30.036Z"
   },
   {
    "duration": 12,
    "start_time": "2025-02-18T17:24:30.251Z"
   },
   {
    "duration": 10,
    "start_time": "2025-02-18T17:24:30.265Z"
   },
   {
    "duration": 11,
    "start_time": "2025-02-18T17:24:30.276Z"
   },
   {
    "duration": 27,
    "start_time": "2025-02-18T17:24:30.288Z"
   },
   {
    "duration": 10,
    "start_time": "2025-02-18T17:24:30.317Z"
   },
   {
    "duration": 7,
    "start_time": "2025-02-18T17:24:30.328Z"
   },
   {
    "duration": 10,
    "start_time": "2025-02-18T17:24:30.337Z"
   },
   {
    "duration": 4,
    "start_time": "2025-02-18T17:24:30.350Z"
   },
   {
    "duration": 10,
    "start_time": "2025-02-18T17:24:30.355Z"
   },
   {
    "duration": 54,
    "start_time": "2025-02-18T17:24:30.366Z"
   },
   {
    "duration": 22,
    "start_time": "2025-02-18T17:24:30.421Z"
   },
   {
    "duration": 16,
    "start_time": "2025-02-18T17:24:30.444Z"
   },
   {
    "duration": 8,
    "start_time": "2025-02-18T17:24:30.461Z"
   },
   {
    "duration": 55,
    "start_time": "2025-02-18T17:24:30.471Z"
   },
   {
    "duration": 80,
    "start_time": "2025-02-18T17:24:30.528Z"
   },
   {
    "duration": 5,
    "start_time": "2025-02-18T17:24:30.610Z"
   },
   {
    "duration": 11,
    "start_time": "2025-02-18T17:24:30.617Z"
   },
   {
    "duration": 4,
    "start_time": "2025-02-18T17:24:30.629Z"
   },
   {
    "duration": 27,
    "start_time": "2025-02-18T17:24:30.634Z"
   },
   {
    "duration": 55,
    "start_time": "2025-02-18T17:24:30.663Z"
   },
   {
    "duration": 5,
    "start_time": "2025-02-18T17:24:30.720Z"
   },
   {
    "duration": 106,
    "start_time": "2025-02-18T17:24:30.726Z"
   },
   {
    "duration": 27,
    "start_time": "2025-02-18T17:24:40.221Z"
   },
   {
    "duration": 28,
    "start_time": "2025-02-18T17:24:40.758Z"
   },
   {
    "duration": 27,
    "start_time": "2025-02-18T17:24:41.103Z"
   },
   {
    "duration": 3,
    "start_time": "2025-02-18T17:36:29.619Z"
   },
   {
    "duration": 277,
    "start_time": "2025-02-18T17:36:49.878Z"
   },
   {
    "duration": 13,
    "start_time": "2025-02-18T17:37:01.817Z"
   },
   {
    "duration": 15,
    "start_time": "2025-02-18T17:37:33.822Z"
   },
   {
    "duration": 7,
    "start_time": "2025-02-18T17:38:24.771Z"
   },
   {
    "duration": 8,
    "start_time": "2025-02-18T17:39:03.118Z"
   },
   {
    "duration": 8,
    "start_time": "2025-02-18T18:23:17.230Z"
   },
   {
    "duration": 5,
    "start_time": "2025-02-18T18:47:57.322Z"
   },
   {
    "duration": 4,
    "start_time": "2025-02-18T18:47:57.890Z"
   },
   {
    "duration": 13,
    "start_time": "2025-02-18T18:48:10.696Z"
   },
   {
    "duration": 485,
    "start_time": "2025-02-18T18:48:21.912Z"
   },
   {
    "duration": 4,
    "start_time": "2025-02-18T18:49:23.957Z"
   },
   {
    "duration": 59,
    "start_time": "2025-02-18T18:49:28.997Z"
   },
   {
    "duration": 898,
    "start_time": "2025-02-18T18:50:21.245Z"
   },
   {
    "duration": 216,
    "start_time": "2025-02-18T18:50:22.145Z"
   },
   {
    "duration": 12,
    "start_time": "2025-02-18T18:50:22.363Z"
   },
   {
    "duration": 10,
    "start_time": "2025-02-18T18:50:22.378Z"
   },
   {
    "duration": 22,
    "start_time": "2025-02-18T18:50:22.391Z"
   },
   {
    "duration": 7,
    "start_time": "2025-02-18T18:50:22.415Z"
   },
   {
    "duration": 10,
    "start_time": "2025-02-18T18:50:22.423Z"
   },
   {
    "duration": 6,
    "start_time": "2025-02-18T18:50:22.435Z"
   },
   {
    "duration": 11,
    "start_time": "2025-02-18T18:50:22.443Z"
   },
   {
    "duration": 3,
    "start_time": "2025-02-18T18:50:22.455Z"
   },
   {
    "duration": 11,
    "start_time": "2025-02-18T18:50:22.460Z"
   },
   {
    "duration": 52,
    "start_time": "2025-02-18T18:50:22.472Z"
   },
   {
    "duration": 21,
    "start_time": "2025-02-18T18:50:22.526Z"
   },
   {
    "duration": 15,
    "start_time": "2025-02-18T18:50:22.550Z"
   },
   {
    "duration": 6,
    "start_time": "2025-02-18T18:50:22.568Z"
   },
   {
    "duration": 57,
    "start_time": "2025-02-18T18:50:22.576Z"
   },
   {
    "duration": 6,
    "start_time": "2025-02-18T18:50:22.710Z"
   },
   {
    "duration": 6,
    "start_time": "2025-02-18T18:50:22.717Z"
   },
   {
    "duration": 11,
    "start_time": "2025-02-18T18:50:22.725Z"
   },
   {
    "duration": 5,
    "start_time": "2025-02-18T18:50:22.737Z"
   },
   {
    "duration": 69,
    "start_time": "2025-02-18T18:50:22.743Z"
   },
   {
    "duration": 95,
    "start_time": "2025-02-18T18:50:22.814Z"
   },
   {
    "duration": 4,
    "start_time": "2025-02-18T18:50:22.911Z"
   },
   {
    "duration": 29,
    "start_time": "2025-02-18T18:50:22.916Z"
   },
   {
    "duration": 4,
    "start_time": "2025-02-18T18:50:22.950Z"
   },
   {
    "duration": 9,
    "start_time": "2025-02-18T18:50:23.010Z"
   },
   {
    "duration": 7,
    "start_time": "2025-02-18T18:50:23.021Z"
   },
   {
    "duration": 80,
    "start_time": "2025-02-18T18:50:23.030Z"
   },
   {
    "duration": 6,
    "start_time": "2025-02-18T18:50:23.112Z"
   },
   {
    "duration": 5,
    "start_time": "2025-02-18T18:50:23.120Z"
   },
   {
    "duration": 754,
    "start_time": "2025-02-18T18:50:23.127Z"
   },
   {
    "duration": 4,
    "start_time": "2025-02-18T18:57:27.686Z"
   },
   {
    "duration": 4,
    "start_time": "2025-02-18T18:57:36.451Z"
   },
   {
    "duration": 60,
    "start_time": "2025-02-18T18:57:51.662Z"
   },
   {
    "duration": 4,
    "start_time": "2025-02-18T19:05:33.897Z"
   },
   {
    "duration": 57,
    "start_time": "2025-02-18T19:05:41.383Z"
   },
   {
    "duration": 890,
    "start_time": "2025-02-18T19:05:49.849Z"
   },
   {
    "duration": 216,
    "start_time": "2025-02-18T19:05:50.741Z"
   },
   {
    "duration": 14,
    "start_time": "2025-02-18T19:05:50.958Z"
   },
   {
    "duration": 9,
    "start_time": "2025-02-18T19:05:50.974Z"
   },
   {
    "duration": 11,
    "start_time": "2025-02-18T19:05:50.984Z"
   },
   {
    "duration": 16,
    "start_time": "2025-02-18T19:05:50.996Z"
   },
   {
    "duration": 10,
    "start_time": "2025-02-18T19:05:51.013Z"
   },
   {
    "duration": 6,
    "start_time": "2025-02-18T19:05:51.025Z"
   },
   {
    "duration": 10,
    "start_time": "2025-02-18T19:05:51.033Z"
   },
   {
    "duration": 2,
    "start_time": "2025-02-18T19:05:51.047Z"
   },
   {
    "duration": 10,
    "start_time": "2025-02-18T19:05:51.051Z"
   },
   {
    "duration": 57,
    "start_time": "2025-02-18T19:05:51.062Z"
   },
   {
    "duration": 22,
    "start_time": "2025-02-18T19:05:51.120Z"
   },
   {
    "duration": 16,
    "start_time": "2025-02-18T19:05:51.143Z"
   },
   {
    "duration": 7,
    "start_time": "2025-02-18T19:05:51.160Z"
   },
   {
    "duration": 55,
    "start_time": "2025-02-18T19:05:51.169Z"
   },
   {
    "duration": 4,
    "start_time": "2025-02-18T19:05:51.226Z"
   },
   {
    "duration": 79,
    "start_time": "2025-02-18T19:05:51.232Z"
   },
   {
    "duration": 11,
    "start_time": "2025-02-18T19:05:51.314Z"
   },
   {
    "duration": 3,
    "start_time": "2025-02-18T19:05:51.327Z"
   },
   {
    "duration": 26,
    "start_time": "2025-02-18T19:05:51.332Z"
   },
   {
    "duration": 58,
    "start_time": "2025-02-18T19:05:51.360Z"
   },
   {
    "duration": 4,
    "start_time": "2025-02-18T19:05:51.420Z"
   },
   {
    "duration": 105,
    "start_time": "2025-02-18T19:05:51.426Z"
   },
   {
    "duration": 6,
    "start_time": "2025-02-18T19:05:51.534Z"
   },
   {
    "duration": 73,
    "start_time": "2025-02-18T19:05:51.543Z"
   },
   {
    "duration": 9,
    "start_time": "2025-02-18T19:05:51.620Z"
   },
   {
    "duration": 7,
    "start_time": "2025-02-18T19:05:51.632Z"
   },
   {
    "duration": 71,
    "start_time": "2025-02-18T19:05:51.640Z"
   },
   {
    "duration": 7,
    "start_time": "2025-02-18T19:05:51.712Z"
   },
   {
    "duration": 747,
    "start_time": "2025-02-18T19:05:51.721Z"
   },
   {
    "duration": 7,
    "start_time": "2025-02-18T19:08:12.383Z"
   },
   {
    "duration": 8,
    "start_time": "2025-02-18T19:08:29.557Z"
   },
   {
    "duration": 8,
    "start_time": "2025-02-18T19:08:45.863Z"
   },
   {
    "duration": 8,
    "start_time": "2025-02-18T19:08:55.182Z"
   },
   {
    "duration": 4,
    "start_time": "2025-02-18T19:11:23.956Z"
   },
   {
    "duration": 62,
    "start_time": "2025-02-18T19:11:27.697Z"
   },
   {
    "duration": 24,
    "start_time": "2025-02-18T19:12:13.878Z"
   },
   {
    "duration": 4,
    "start_time": "2025-02-18T19:12:50.448Z"
   },
   {
    "duration": 1540,
    "start_time": "2025-02-18T19:12:56.081Z"
   },
   {
    "duration": 1504,
    "start_time": "2025-02-18T19:13:02.208Z"
   },
   {
    "duration": 886,
    "start_time": "2025-02-18T19:15:13.840Z"
   },
   {
    "duration": 229,
    "start_time": "2025-02-18T19:15:14.728Z"
   },
   {
    "duration": 12,
    "start_time": "2025-02-18T19:15:14.959Z"
   },
   {
    "duration": 9,
    "start_time": "2025-02-18T19:15:14.973Z"
   },
   {
    "duration": 27,
    "start_time": "2025-02-18T19:15:14.983Z"
   },
   {
    "duration": 8,
    "start_time": "2025-02-18T19:15:15.011Z"
   },
   {
    "duration": 10,
    "start_time": "2025-02-18T19:15:15.020Z"
   },
   {
    "duration": 7,
    "start_time": "2025-02-18T19:15:15.031Z"
   },
   {
    "duration": 10,
    "start_time": "2025-02-18T19:15:15.040Z"
   },
   {
    "duration": 3,
    "start_time": "2025-02-18T19:15:15.053Z"
   },
   {
    "duration": 10,
    "start_time": "2025-02-18T19:15:15.057Z"
   },
   {
    "duration": 51,
    "start_time": "2025-02-18T19:15:15.069Z"
   },
   {
    "duration": 21,
    "start_time": "2025-02-18T19:15:15.122Z"
   },
   {
    "duration": 16,
    "start_time": "2025-02-18T19:15:15.144Z"
   },
   {
    "duration": 8,
    "start_time": "2025-02-18T19:15:15.161Z"
   },
   {
    "duration": 141,
    "start_time": "2025-02-18T19:15:15.172Z"
   },
   {
    "duration": 5,
    "start_time": "2025-02-18T19:15:15.315Z"
   },
   {
    "duration": 6,
    "start_time": "2025-02-18T19:15:15.323Z"
   },
   {
    "duration": 11,
    "start_time": "2025-02-18T19:15:15.330Z"
   },
   {
    "duration": 4,
    "start_time": "2025-02-18T19:15:15.342Z"
   },
   {
    "duration": 62,
    "start_time": "2025-02-18T19:15:15.348Z"
   },
   {
    "duration": 13,
    "start_time": "2025-02-18T19:15:15.412Z"
   },
   {
    "duration": 4,
    "start_time": "2025-02-18T19:15:15.427Z"
   },
   {
    "duration": 102,
    "start_time": "2025-02-18T19:15:15.432Z"
   },
   {
    "duration": 4,
    "start_time": "2025-02-18T19:15:15.536Z"
   },
   {
    "duration": 435,
    "start_time": "2025-02-18T19:15:15.542Z"
   },
   {
    "duration": 0,
    "start_time": "2025-02-18T19:15:15.979Z"
   },
   {
    "duration": 0,
    "start_time": "2025-02-18T19:15:15.979Z"
   },
   {
    "duration": 0,
    "start_time": "2025-02-18T19:15:15.980Z"
   },
   {
    "duration": 0,
    "start_time": "2025-02-18T19:15:15.982Z"
   },
   {
    "duration": 0,
    "start_time": "2025-02-18T19:15:15.983Z"
   },
   {
    "duration": 0,
    "start_time": "2025-02-18T19:15:15.984Z"
   },
   {
    "duration": 962,
    "start_time": "2025-02-18T19:15:45.707Z"
   },
   {
    "duration": 263,
    "start_time": "2025-02-18T19:15:46.671Z"
   },
   {
    "duration": 13,
    "start_time": "2025-02-18T19:15:46.937Z"
   },
   {
    "duration": 10,
    "start_time": "2025-02-18T19:15:46.952Z"
   },
   {
    "duration": 12,
    "start_time": "2025-02-18T19:15:46.964Z"
   },
   {
    "duration": 11,
    "start_time": "2025-02-18T19:15:46.977Z"
   },
   {
    "duration": 30,
    "start_time": "2025-02-18T19:15:46.989Z"
   },
   {
    "duration": 7,
    "start_time": "2025-02-18T19:15:47.021Z"
   },
   {
    "duration": 13,
    "start_time": "2025-02-18T19:15:47.030Z"
   },
   {
    "duration": 3,
    "start_time": "2025-02-18T19:15:47.044Z"
   },
   {
    "duration": 10,
    "start_time": "2025-02-18T19:15:47.049Z"
   },
   {
    "duration": 50,
    "start_time": "2025-02-18T19:15:47.060Z"
   },
   {
    "duration": 24,
    "start_time": "2025-02-18T19:15:47.112Z"
   },
   {
    "duration": 19,
    "start_time": "2025-02-18T19:15:47.140Z"
   },
   {
    "duration": 10,
    "start_time": "2025-02-18T19:15:47.162Z"
   },
   {
    "duration": 56,
    "start_time": "2025-02-18T19:15:47.174Z"
   },
   {
    "duration": 7,
    "start_time": "2025-02-18T19:15:47.235Z"
   },
   {
    "duration": 65,
    "start_time": "2025-02-18T19:15:47.248Z"
   },
   {
    "duration": 19,
    "start_time": "2025-02-18T19:15:47.316Z"
   },
   {
    "duration": 5,
    "start_time": "2025-02-18T19:15:47.337Z"
   },
   {
    "duration": 70,
    "start_time": "2025-02-18T19:15:47.343Z"
   },
   {
    "duration": 26,
    "start_time": "2025-02-18T19:15:47.416Z"
   },
   {
    "duration": 66,
    "start_time": "2025-02-18T19:15:47.444Z"
   },
   {
    "duration": 36,
    "start_time": "2025-02-18T19:15:47.512Z"
   },
   {
    "duration": 57,
    "start_time": "2025-02-18T19:15:47.552Z"
   },
   {
    "duration": 13,
    "start_time": "2025-02-18T19:15:47.611Z"
   },
   {
    "duration": 8,
    "start_time": "2025-02-18T19:15:47.626Z"
   },
   {
    "duration": 9,
    "start_time": "2025-02-18T19:15:47.709Z"
   },
   {
    "duration": 5,
    "start_time": "2025-02-18T19:15:47.720Z"
   },
   {
    "duration": 5,
    "start_time": "2025-02-18T19:15:47.726Z"
   },
   {
    "duration": 867,
    "start_time": "2025-02-18T19:15:47.733Z"
   },
   {
    "duration": 0,
    "start_time": "2025-02-18T19:15:48.603Z"
   },
   {
    "duration": 883,
    "start_time": "2025-02-18T19:16:20.887Z"
   },
   {
    "duration": 218,
    "start_time": "2025-02-18T19:16:21.772Z"
   },
   {
    "duration": 11,
    "start_time": "2025-02-18T19:16:21.992Z"
   },
   {
    "duration": 8,
    "start_time": "2025-02-18T19:16:22.011Z"
   },
   {
    "duration": 10,
    "start_time": "2025-02-18T19:16:22.021Z"
   },
   {
    "duration": 6,
    "start_time": "2025-02-18T19:16:22.033Z"
   },
   {
    "duration": 10,
    "start_time": "2025-02-18T19:16:22.042Z"
   },
   {
    "duration": 7,
    "start_time": "2025-02-18T19:16:22.053Z"
   },
   {
    "duration": 11,
    "start_time": "2025-02-18T19:16:22.061Z"
   },
   {
    "duration": 3,
    "start_time": "2025-02-18T19:16:22.110Z"
   },
   {
    "duration": 10,
    "start_time": "2025-02-18T19:16:22.115Z"
   },
   {
    "duration": 17,
    "start_time": "2025-02-18T19:16:22.126Z"
   },
   {
    "duration": 23,
    "start_time": "2025-02-18T19:16:22.145Z"
   },
   {
    "duration": 40,
    "start_time": "2025-02-18T19:16:22.170Z"
   },
   {
    "duration": 8,
    "start_time": "2025-02-18T19:16:22.211Z"
   },
   {
    "duration": 89,
    "start_time": "2025-02-18T19:16:22.221Z"
   },
   {
    "duration": 5,
    "start_time": "2025-02-18T19:16:22.312Z"
   },
   {
    "duration": 9,
    "start_time": "2025-02-18T19:16:22.320Z"
   },
   {
    "duration": 13,
    "start_time": "2025-02-18T19:16:22.331Z"
   },
   {
    "duration": 62,
    "start_time": "2025-02-18T19:16:22.346Z"
   },
   {
    "duration": 29,
    "start_time": "2025-02-18T19:16:22.410Z"
   },
   {
    "duration": 70,
    "start_time": "2025-02-18T19:16:22.440Z"
   },
   {
    "duration": 4,
    "start_time": "2025-02-18T19:16:22.512Z"
   },
   {
    "duration": 102,
    "start_time": "2025-02-18T19:16:22.518Z"
   },
   {
    "duration": 3,
    "start_time": "2025-02-18T19:16:22.622Z"
   },
   {
    "duration": 10,
    "start_time": "2025-02-18T19:16:22.627Z"
   },
   {
    "duration": 8,
    "start_time": "2025-02-18T19:16:22.709Z"
   },
   {
    "duration": 6,
    "start_time": "2025-02-18T19:16:22.721Z"
   },
   {
    "duration": 5,
    "start_time": "2025-02-18T19:16:22.729Z"
   },
   {
    "duration": 5,
    "start_time": "2025-02-18T19:16:22.735Z"
   },
   {
    "duration": 4,
    "start_time": "2025-02-18T19:16:22.741Z"
   },
   {
    "duration": 1541,
    "start_time": "2025-02-18T19:16:22.747Z"
   },
   {
    "duration": 1453,
    "start_time": "2025-02-18T19:16:40.472Z"
   },
   {
    "duration": 4,
    "start_time": "2025-02-18T19:17:36.958Z"
   },
   {
    "duration": 1608,
    "start_time": "2025-02-18T19:17:42.058Z"
   },
   {
    "duration": 1649,
    "start_time": "2025-02-18T19:17:47.685Z"
   },
   {
    "duration": 740,
    "start_time": "2025-02-18T19:18:00.464Z"
   },
   {
    "duration": 11,
    "start_time": "2025-02-18T19:22:36.209Z"
   },
   {
    "duration": 876,
    "start_time": "2025-02-18T19:22:50.103Z"
   },
   {
    "duration": 215,
    "start_time": "2025-02-18T19:22:50.981Z"
   },
   {
    "duration": 16,
    "start_time": "2025-02-18T19:22:51.198Z"
   },
   {
    "duration": 9,
    "start_time": "2025-02-18T19:22:51.216Z"
   },
   {
    "duration": 10,
    "start_time": "2025-02-18T19:22:51.227Z"
   },
   {
    "duration": 7,
    "start_time": "2025-02-18T19:22:51.238Z"
   },
   {
    "duration": 10,
    "start_time": "2025-02-18T19:22:51.247Z"
   },
   {
    "duration": 7,
    "start_time": "2025-02-18T19:22:51.258Z"
   },
   {
    "duration": 44,
    "start_time": "2025-02-18T19:22:51.267Z"
   },
   {
    "duration": 3,
    "start_time": "2025-02-18T19:22:51.314Z"
   },
   {
    "duration": 10,
    "start_time": "2025-02-18T19:22:51.319Z"
   },
   {
    "duration": 16,
    "start_time": "2025-02-18T19:22:51.330Z"
   },
   {
    "duration": 22,
    "start_time": "2025-02-18T19:22:51.348Z"
   },
   {
    "duration": 45,
    "start_time": "2025-02-18T19:22:51.372Z"
   },
   {
    "duration": 7,
    "start_time": "2025-02-18T19:22:51.419Z"
   },
   {
    "duration": 12,
    "start_time": "2025-02-18T19:22:51.427Z"
   },
   {
    "duration": 7,
    "start_time": "2025-02-18T19:22:51.442Z"
   },
   {
    "duration": 66,
    "start_time": "2025-02-18T19:22:51.451Z"
   },
   {
    "duration": 90,
    "start_time": "2025-02-18T19:22:51.520Z"
   },
   {
    "duration": 4,
    "start_time": "2025-02-18T19:22:51.612Z"
   },
   {
    "duration": 34,
    "start_time": "2025-02-18T19:22:51.618Z"
   },
   {
    "duration": 65,
    "start_time": "2025-02-18T19:22:51.653Z"
   },
   {
    "duration": 4,
    "start_time": "2025-02-18T19:22:51.720Z"
   },
   {
    "duration": 101,
    "start_time": "2025-02-18T19:22:51.726Z"
   },
   {
    "duration": 3,
    "start_time": "2025-02-18T19:22:51.829Z"
   },
   {
    "duration": 9,
    "start_time": "2025-02-18T19:22:51.834Z"
   },
   {
    "duration": 71,
    "start_time": "2025-02-18T19:22:51.844Z"
   },
   {
    "duration": 9,
    "start_time": "2025-02-18T19:22:51.918Z"
   },
   {
    "duration": 4,
    "start_time": "2025-02-18T19:22:51.929Z"
   },
   {
    "duration": 5,
    "start_time": "2025-02-18T19:22:51.934Z"
   },
   {
    "duration": 1711,
    "start_time": "2025-02-18T19:22:51.941Z"
   },
   {
    "duration": 1641,
    "start_time": "2025-02-18T19:22:53.654Z"
   },
   {
    "duration": 1653,
    "start_time": "2025-02-18T19:22:55.296Z"
   },
   {
    "duration": 2726,
    "start_time": "2025-02-18T21:03:34.491Z"
   },
   {
    "duration": 306,
    "start_time": "2025-02-18T21:03:37.219Z"
   },
   {
    "duration": 14,
    "start_time": "2025-02-18T21:03:37.529Z"
   },
   {
    "duration": 10,
    "start_time": "2025-02-18T21:03:37.545Z"
   },
   {
    "duration": 19,
    "start_time": "2025-02-18T21:03:37.558Z"
   },
   {
    "duration": 7,
    "start_time": "2025-02-18T21:03:37.579Z"
   },
   {
    "duration": 10,
    "start_time": "2025-02-18T21:03:37.588Z"
   },
   {
    "duration": 6,
    "start_time": "2025-02-18T21:03:37.600Z"
   },
   {
    "duration": 11,
    "start_time": "2025-02-18T21:03:37.608Z"
   },
   {
    "duration": 3,
    "start_time": "2025-02-18T21:03:37.621Z"
   },
   {
    "duration": 47,
    "start_time": "2025-02-18T21:03:37.626Z"
   },
   {
    "duration": 19,
    "start_time": "2025-02-18T21:03:37.676Z"
   },
   {
    "duration": 23,
    "start_time": "2025-02-18T21:03:37.696Z"
   },
   {
    "duration": 16,
    "start_time": "2025-02-18T21:03:37.723Z"
   },
   {
    "duration": 29,
    "start_time": "2025-02-18T21:03:37.741Z"
   },
   {
    "duration": 13,
    "start_time": "2025-02-18T21:03:37.772Z"
   },
   {
    "duration": 8,
    "start_time": "2025-02-18T21:03:37.789Z"
   },
   {
    "duration": 70,
    "start_time": "2025-02-18T21:03:37.801Z"
   },
   {
    "duration": 14,
    "start_time": "2025-02-18T21:03:37.874Z"
   },
   {
    "duration": 4,
    "start_time": "2025-02-18T21:03:37.890Z"
   },
   {
    "duration": 84,
    "start_time": "2025-02-18T21:03:37.896Z"
   },
   {
    "duration": 89,
    "start_time": "2025-02-18T21:03:37.982Z"
   },
   {
    "duration": 6,
    "start_time": "2025-02-18T21:03:38.073Z"
   },
   {
    "duration": 29,
    "start_time": "2025-02-18T21:03:38.081Z"
   },
   {
    "duration": 59,
    "start_time": "2025-02-18T21:03:38.112Z"
   },
   {
    "duration": 9,
    "start_time": "2025-02-18T21:03:38.173Z"
   },
   {
    "duration": 8,
    "start_time": "2025-02-18T21:03:38.184Z"
   },
   {
    "duration": 83,
    "start_time": "2025-02-18T21:03:38.193Z"
   },
   {
    "duration": 5,
    "start_time": "2025-02-18T21:03:38.278Z"
   },
   {
    "duration": 5,
    "start_time": "2025-02-18T21:03:38.284Z"
   },
   {
    "duration": 1729,
    "start_time": "2025-02-18T21:03:38.291Z"
   },
   {
    "duration": 1716,
    "start_time": "2025-02-18T21:03:40.022Z"
   },
   {
    "duration": 1783,
    "start_time": "2025-02-18T21:03:41.740Z"
   },
   {
    "duration": 4,
    "start_time": "2025-02-18T21:07:04.942Z"
   },
   {
    "duration": 1511,
    "start_time": "2025-02-18T21:07:09.559Z"
   },
   {
    "duration": 1540,
    "start_time": "2025-02-18T21:07:14.241Z"
   },
   {
    "duration": 1612,
    "start_time": "2025-02-18T21:07:20.754Z"
   },
   {
    "duration": 3,
    "start_time": "2025-02-18T21:26:01.127Z"
   },
   {
    "duration": 3,
    "start_time": "2025-02-18T21:55:30.086Z"
   },
   {
    "duration": 17,
    "start_time": "2025-02-18T22:01:07.041Z"
   },
   {
    "duration": 15,
    "start_time": "2025-02-18T22:01:22.463Z"
   },
   {
    "duration": 902,
    "start_time": "2025-02-18T22:42:00.034Z"
   },
   {
    "duration": 221,
    "start_time": "2025-02-18T22:42:00.938Z"
   },
   {
    "duration": 12,
    "start_time": "2025-02-18T22:42:01.161Z"
   },
   {
    "duration": 9,
    "start_time": "2025-02-18T22:42:01.176Z"
   },
   {
    "duration": 10,
    "start_time": "2025-02-18T22:42:01.187Z"
   },
   {
    "duration": 7,
    "start_time": "2025-02-18T22:42:01.199Z"
   },
   {
    "duration": 11,
    "start_time": "2025-02-18T22:42:01.208Z"
   },
   {
    "duration": 7,
    "start_time": "2025-02-18T22:42:01.220Z"
   },
   {
    "duration": 48,
    "start_time": "2025-02-18T22:42:01.229Z"
   },
   {
    "duration": 3,
    "start_time": "2025-02-18T22:42:01.281Z"
   },
   {
    "duration": 10,
    "start_time": "2025-02-18T22:42:01.286Z"
   },
   {
    "duration": 17,
    "start_time": "2025-02-18T22:42:01.300Z"
   },
   {
    "duration": 23,
    "start_time": "2025-02-18T22:42:01.319Z"
   },
   {
    "duration": 46,
    "start_time": "2025-02-18T22:42:01.344Z"
   },
   {
    "duration": 9,
    "start_time": "2025-02-18T22:42:01.397Z"
   },
   {
    "duration": 17,
    "start_time": "2025-02-18T22:42:01.408Z"
   },
   {
    "duration": 5,
    "start_time": "2025-02-18T22:42:01.426Z"
   },
   {
    "duration": 7,
    "start_time": "2025-02-18T22:42:01.471Z"
   },
   {
    "duration": 13,
    "start_time": "2025-02-18T22:42:01.480Z"
   },
   {
    "duration": 76,
    "start_time": "2025-02-18T22:42:01.495Z"
   },
   {
    "duration": 29,
    "start_time": "2025-02-18T22:42:01.573Z"
   },
   {
    "duration": 75,
    "start_time": "2025-02-18T22:42:01.603Z"
   },
   {
    "duration": 5,
    "start_time": "2025-02-18T22:42:01.683Z"
   },
   {
    "duration": 102,
    "start_time": "2025-02-18T22:42:01.693Z"
   },
   {
    "duration": 5,
    "start_time": "2025-02-18T22:42:01.799Z"
   },
   {
    "duration": 81,
    "start_time": "2025-02-18T22:42:01.808Z"
   },
   {
    "duration": 4,
    "start_time": "2025-02-18T22:42:01.892Z"
   },
   {
    "duration": 1559,
    "start_time": "2025-02-18T22:42:01.899Z"
   },
   {
    "duration": 1454,
    "start_time": "2025-02-18T22:42:03.460Z"
   },
   {
    "duration": 1460,
    "start_time": "2025-02-18T22:42:04.916Z"
   },
   {
    "duration": 869,
    "start_time": "2025-02-19T18:09:14.352Z"
   },
   {
    "duration": 3,
    "start_time": "2025-02-19T18:09:57.826Z"
   }
  ],
  "kernelspec": {
   "display_name": "Python 3 (ipykernel)",
   "language": "python",
   "name": "python3"
  },
  "language_info": {
   "codemirror_mode": {
    "name": "ipython",
    "version": 3
   },
   "file_extension": ".py",
   "mimetype": "text/x-python",
   "name": "python",
   "nbconvert_exporter": "python",
   "pygments_lexer": "ipython3",
   "version": "3.9.19"
  },
  "toc": {
   "base_numbering": 1,
   "nav_menu": {},
   "number_sections": true,
   "sideBar": true,
   "skip_h1_title": true,
   "title_cell": "Table of Contents",
   "title_sidebar": "Contents",
   "toc_cell": false,
   "toc_position": {},
   "toc_section_display": true,
   "toc_window_display": false
  }
 },
 "nbformat": 4,
 "nbformat_minor": 2
}
